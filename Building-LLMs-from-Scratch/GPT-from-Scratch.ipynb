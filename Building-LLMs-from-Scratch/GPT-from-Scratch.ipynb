{
 "cells": [
  {
   "cell_type": "code",
   "execution_count": 24,
   "id": "4b577c92-3a55-45f3-9169-1ee4a43f7985",
   "metadata": {},
   "outputs": [],
   "source": [
    "import pandas as pd"
   ]
  },
  {
   "cell_type": "code",
   "execution_count": 25,
   "id": "e7b974c1-762b-4c07-a4db-c68bc1dabd14",
   "metadata": {},
   "outputs": [
    {
     "name": "stdout",
     "output_type": "stream",
     "text": [
      "Total number of character: 20398\n",
      "﻿I HAD always thought Jack Gisburn rather a cheap genius--though a good fellow enough--so it was no\n"
     ]
    }
   ],
   "source": [
    "#Reading in a short story as text sample into Python\n",
    "with open(\"the-verdict.txt\", \"r\", encoding = \"utf-8\") as f:\n",
    "          raw_text = f.read()\n",
    "print(\"Total number of character:\", len(raw_text))\n",
    "print(raw_text[:99])"
   ]
  },
  {
   "cell_type": "markdown",
   "id": "fca6197a-3450-476d-a75e-50e66984b1e4",
   "metadata": {},
   "source": [
    "### 1. Tokenizing Text"
   ]
  },
  {
   "cell_type": "code",
   "execution_count": 27,
   "id": "c490f3ea-71ec-43ef-b2f7-2f6844ab5010",
   "metadata": {},
   "outputs": [
    {
     "name": "stdout",
     "output_type": "stream",
     "text": [
      "['Hello,', ' ', 'world.', ' ', 'This,', ' ', 'is', ' ', 'a', ' ', 'test.']\n"
     ]
    }
   ],
   "source": [
    "import re\n",
    "text = \"Hello, world. This, is a test.\"\n",
    "result = re.split(r'(\\s)', text)\n",
    "print(result)"
   ]
  },
  {
   "cell_type": "code",
   "execution_count": 28,
   "id": "0fd779b8-4919-4f5f-a6cc-115d8a0edff4",
   "metadata": {},
   "outputs": [
    {
     "name": "stdout",
     "output_type": "stream",
     "text": [
      "['Hello', ',', '', ' ', 'world', '.', '', ' ', 'This', ',', '', ' ', 'is', ' ', 'a', ' ', 'test', '.', '']\n"
     ]
    }
   ],
   "source": [
    "#separting punction and spaces from the text\n",
    "result = re.split(r'([,.]|\\s)', text)\n",
    "print(result)"
   ]
  },
  {
   "cell_type": "code",
   "execution_count": 29,
   "id": "a995544a-edaf-41ce-96fa-35a08f74e78d",
   "metadata": {},
   "outputs": [
    {
     "name": "stdout",
     "output_type": "stream",
     "text": [
      "['Hello', ',', 'world', '.', 'This', ',', 'is', 'a', 'test', '.']\n"
     ]
    }
   ],
   "source": [
    "#remvoing white spaces\n",
    "result = [item for item in result if item.strip()]\n",
    "print(result)"
   ]
  },
  {
   "cell_type": "code",
   "execution_count": 30,
   "id": "669d64dd-2251-47f6-9c64-7acda8a2b33c",
   "metadata": {},
   "outputs": [
    {
     "name": "stdout",
     "output_type": "stream",
     "text": [
      "Tokenized text:  ['Hello', ',', 'world', '.', 'Is', 'this', '--', 'a', 'test', '.']\n"
     ]
    }
   ],
   "source": [
    "#extending the tokenizer to handle wider range of punctuations\n",
    "text = \"Hello, world. Is this-- a test.\"\n",
    "result = re.split(r'([,.:;?_!\"()\\']|--|\\s)', text)\n",
    "result = [item.strip() for item in result if item.strip()]\n",
    "print(\"Tokenized text: \",result)"
   ]
  },
  {
   "cell_type": "code",
   "execution_count": 31,
   "id": "52690889-1543-4732-bd56-f97d409d91a9",
   "metadata": {},
   "outputs": [
    {
     "name": "stdout",
     "output_type": "stream",
     "text": [
      "length of the complete tokenized text from Edith Wharton story: 4690\n"
     ]
    }
   ],
   "source": [
    "#applying this tokenizer to the full Edith Warton's story\n",
    "preprocessed = re.split(r'([,.:;?_!\"()\\']|--|\\s)', raw_text)\n",
    "preprocessed = [item.strip() for item in preprocessed if item.strip()]\n",
    "print(f\"length of the complete tokenized text from Edith Wharton story: {len(preprocessed)}\")"
   ]
  },
  {
   "cell_type": "code",
   "execution_count": 32,
   "id": "5e98ed10-3aa6-4ce4-b66f-3c7c03abba0b",
   "metadata": {},
   "outputs": [
    {
     "name": "stdout",
     "output_type": "stream",
     "text": [
      "First 30 tokens: ['\\ufeffI', 'HAD', 'always', 'thought', 'Jack', 'Gisburn', 'rather', 'a', 'cheap', 'genius', '--', 'though', 'a', 'good', 'fellow', 'enough', '--', 'so', 'it', 'was', 'no', 'great', 'surprise', 'to', 'me', 'to', 'hear', 'that', ',', 'in']\n"
     ]
    }
   ],
   "source": [
    "#printing first 30 tokens\n",
    "print(f\"First 30 tokens: {preprocessed[:30]}\")"
   ]
  },
  {
   "cell_type": "markdown",
   "id": "d2729af4-db08-42cc-96da-34851831de5e",
   "metadata": {},
   "source": [
    "### 2. Converting token into token IDs"
   ]
  },
  {
   "cell_type": "markdown",
   "id": "ab8fbec7-c786-45a4-be1d-96ee2f7500b3",
   "metadata": {},
   "source": [
    "#### create a list of all unique tokens and sort them alphabetically to determine the vocabulary"
   ]
  },
  {
   "cell_type": "code",
   "execution_count": 35,
   "id": "a4664186-5ff4-426e-940c-d5feb6aba4dd",
   "metadata": {},
   "outputs": [
    {
     "name": "stdout",
     "output_type": "stream",
     "text": [
      "Vocabulary Size: 1131\n"
     ]
    }
   ],
   "source": [
    "all_words = sorted(list(set(preprocessed)))\n",
    "vocab_size = len(all_words)\n",
    "print(f\"Vocabulary Size: {vocab_size}\")"
   ]
  },
  {
   "cell_type": "code",
   "execution_count": 36,
   "id": "5f725dd2-aa85-43c6-8110-32485f318f1c",
   "metadata": {
    "scrolled": true
   },
   "outputs": [
    {
     "name": "stdout",
     "output_type": "stream",
     "text": [
      "('!', 0)\n",
      "('\"', 1)\n",
      "(\"'\", 2)\n",
      "('(', 3)\n",
      "(')', 4)\n",
      "(',', 5)\n",
      "('--', 6)\n",
      "('.', 7)\n",
      "(':', 8)\n",
      "(';', 9)\n",
      "('?', 10)\n",
      "('A', 11)\n",
      "('Ah', 12)\n",
      "('Among', 13)\n",
      "('And', 14)\n",
      "('Are', 15)\n",
      "('Arrt', 16)\n",
      "('As', 17)\n",
      "('At', 18)\n",
      "('Be', 19)\n",
      "('Begin', 20)\n",
      "('Burlington', 21)\n",
      "('But', 22)\n",
      "('By', 23)\n",
      "('Carlo', 24)\n",
      "('Chicago', 25)\n",
      "('Claude', 26)\n",
      "('Come', 27)\n",
      "('Croft', 28)\n",
      "('Destroyed', 29)\n",
      "('Devonshire', 30)\n",
      "('Don', 31)\n",
      "('Dubarry', 32)\n",
      "('Emperors', 33)\n",
      "('Florence', 34)\n",
      "('For', 35)\n",
      "('Gallery', 36)\n",
      "('Gideon', 37)\n",
      "('Gisburn', 38)\n",
      "('Gisburns', 39)\n",
      "('Grafton', 40)\n",
      "('Greek', 41)\n",
      "('Grindle', 42)\n",
      "('Grindles', 43)\n",
      "('HAD', 44)\n",
      "('Had', 45)\n",
      "('Hang', 46)\n",
      "('Has', 47)\n",
      "('He', 48)\n",
      "('Her', 49)\n",
      "('Hermia', 50)\n",
      "('His', 51)\n"
     ]
    }
   ],
   "source": [
    "#creating a vocabulary\n",
    "vocab = {token: integer for integer, token in enumerate(all_words)}\n",
    "for i, item in enumerate(vocab.items()):\n",
    "    print(item)\n",
    "    if i > 50:\n",
    "        break"
   ]
  },
  {
   "cell_type": "code",
   "execution_count": 37,
   "id": "e9ac1c72-2497-4e7c-bad8-f6e74e43a30e",
   "metadata": {},
   "outputs": [],
   "source": [
    "#implementing a tokenizer class to tokenize text into tokens, encode tokens to integers and decode integers to tokens\n",
    "\n",
    "class SimpleTokenzierV1:\n",
    "    def __init__(self, vocab):\n",
    "        self.str_to_int = vocab #A\n",
    "        self.int_to_str = {i:s for s,i in vocab.items()} #B\n",
    "\n",
    "    def encode(self, text): #C\n",
    "        preprocessed = re.split(r'([,.:;?_!\"()\\']|--|\\s)', text)\n",
    "        preprocessed = [item.strip() for item in preprocessed if item.strip()]\n",
    "        ids = [self.str_to_int[s] for s in preprocessed]\n",
    "        return ids\n",
    "\n",
    "    def decode(self, ids): #D\n",
    "        text = \" \".join([self.int_to_str[i] for i in ids])\n",
    "        text = re.sub(r'\\s+([,.?!\"()\\'])', r'\\1', text) #E\n",
    "        return text"
   ]
  },
  {
   "cell_type": "code",
   "execution_count": 38,
   "id": "7efebd56-ea72-4f69-99b4-d070fea10075",
   "metadata": {},
   "outputs": [],
   "source": [
    "#instantiating tokenizer object to test the SimpleTokenzierV1 class\n",
    "tokenizer = SimpleTokenzierV1(vocab)"
   ]
  },
  {
   "cell_type": "code",
   "execution_count": 39,
   "id": "acfbe03a-2dce-45e2-80ed-8c2c97a86623",
   "metadata": {},
   "outputs": [
    {
     "name": "stdout",
     "output_type": "stream",
     "text": [
      "Token ids for sample text from Edith Warton's story: [1130, 44, 149, 1003, 57, 38, 818, 115, 256, 486, 6, 1002, 115, 500, 435, 392, 6, 908, 585, 1077, 709]\n"
     ]
    }
   ],
   "source": [
    "text = raw_text[:99]\n",
    "ids = tokenizer.encode(text)\n",
    "print(f\"Token ids for sample text from Edith Warton's story: {ids}\")"
   ]
  },
  {
   "cell_type": "code",
   "execution_count": 40,
   "id": "0669898e-04dc-43c2-ad50-4fd8ab344a47",
   "metadata": {},
   "outputs": [
    {
     "name": "stdout",
     "output_type": "stream",
     "text": [
      "text from decoding token ids using SimpleTokenzierV1 class: \n",
      "﻿I HAD always thought Jack Gisburn rather a cheap genius -- though a good fellow enough -- so it was no\n"
     ]
    }
   ],
   "source": [
    "#testing decoder on the token ids above\n",
    "print(f\"text from decoding token ids using SimpleTokenzierV1 class: \\n{tokenizer.decode(ids)}\")"
   ]
  },
  {
   "cell_type": "code",
   "execution_count": 41,
   "id": "6ee95db7-3368-4bb5-b76e-665cf1c192b4",
   "metadata": {},
   "outputs": [
    {
     "ename": "KeyError",
     "evalue": "'Hello'",
     "output_type": "error",
     "traceback": [
      "\u001b[0;31m---------------------------------------------------------------------------\u001b[0m",
      "\u001b[0;31mKeyError\u001b[0m                                  Traceback (most recent call last)",
      "Cell \u001b[0;32mIn[41], line 3\u001b[0m\n\u001b[1;32m      1\u001b[0m \u001b[38;5;66;03m#running the tokenizer on a sample text which is not a part of the text used to create the vocab\u001b[39;00m\n\u001b[1;32m      2\u001b[0m text \u001b[38;5;241m=\u001b[39m \u001b[38;5;124m\"\u001b[39m\u001b[38;5;124mHello, do you like tea?\u001b[39m\u001b[38;5;124m\"\u001b[39m\n\u001b[0;32m----> 3\u001b[0m tokenizer\u001b[38;5;241m.\u001b[39mencode(text)\n",
      "Cell \u001b[0;32mIn[37], line 11\u001b[0m, in \u001b[0;36mSimpleTokenzierV1.encode\u001b[0;34m(self, text)\u001b[0m\n\u001b[1;32m      9\u001b[0m preprocessed \u001b[38;5;241m=\u001b[39m re\u001b[38;5;241m.\u001b[39msplit(\u001b[38;5;124mr\u001b[39m\u001b[38;5;124m'\u001b[39m\u001b[38;5;124m([,.:;?_!\u001b[39m\u001b[38;5;124m\"\u001b[39m\u001b[38;5;124m()\u001b[39m\u001b[38;5;130;01m\\'\u001b[39;00m\u001b[38;5;124m]|--|\u001b[39m\u001b[38;5;124m\\\u001b[39m\u001b[38;5;124ms)\u001b[39m\u001b[38;5;124m'\u001b[39m, text)\n\u001b[1;32m     10\u001b[0m preprocessed \u001b[38;5;241m=\u001b[39m [item\u001b[38;5;241m.\u001b[39mstrip() \u001b[38;5;28;01mfor\u001b[39;00m item \u001b[38;5;129;01min\u001b[39;00m preprocessed \u001b[38;5;28;01mif\u001b[39;00m item\u001b[38;5;241m.\u001b[39mstrip()]\n\u001b[0;32m---> 11\u001b[0m ids \u001b[38;5;241m=\u001b[39m [\u001b[38;5;28mself\u001b[39m\u001b[38;5;241m.\u001b[39mstr_to_int[s] \u001b[38;5;28;01mfor\u001b[39;00m s \u001b[38;5;129;01min\u001b[39;00m preprocessed]\n\u001b[1;32m     12\u001b[0m \u001b[38;5;28;01mreturn\u001b[39;00m ids\n",
      "\u001b[0;31mKeyError\u001b[0m: 'Hello'"
     ]
    }
   ],
   "source": [
    "#running the tokenizer on a sample text which is not a part of the text used to create the vocab\n",
    "text = \"Hello, do you like tea?\"\n",
    "tokenizer.encode(text)"
   ]
  },
  {
   "cell_type": "markdown",
   "id": "bd2c9439-8d76-416b-903d-f72b8bf27588",
   "metadata": {},
   "source": [
    "here, the key error suggests that Hello is not a part of the vocabulary and hence we need to use large and diverse text in order to extend the vocabulary when creating a LARGE language models"
   ]
  },
  {
   "cell_type": "markdown",
   "id": "fe8b41fc-4ba2-4fb0-99ce-8eec285b0daf",
   "metadata": {},
   "source": [
    "#### 3. Adding special context tokens"
   ]
  },
  {
   "cell_type": "markdown",
   "id": "ff54ec79-f0bf-42d1-85b4-8c2cdd90a658",
   "metadata": {},
   "source": [
    "modifying SimpleTokenzierV1 to support new tokens for unknown words and document boundaries"
   ]
  },
  {
   "cell_type": "code",
   "execution_count": 42,
   "id": "05e2ebda-cfa9-4de8-9e53-6542f783e3cc",
   "metadata": {},
   "outputs": [
    {
     "name": "stdout",
     "output_type": "stream",
     "text": [
      "length of the vocabulary after extending the vocab with unknown words and end of text markers: 1133\n"
     ]
    }
   ],
   "source": [
    "'''adding tokens:\n",
    "1. <unk> - to represent unknown or new words that are not part of the vocabulary\n",
    "2. <|endoftext|> -  marker to separate two different text source from each other\n",
    "'''\n",
    "all_tokens =  sorted(list(set(preprocessed)))\n",
    "all_tokens.extend([\"<|endoftext|>\", \"<unk>\"])\n",
    "vocab = {token:integer for integer, token in enumerate(all_tokens)}\n",
    "\n",
    "print(f\"length of the vocabulary after extending the vocab with unknown words and end of text markers: {len(vocab.items())}\")"
   ]
  },
  {
   "cell_type": "code",
   "execution_count": 44,
   "id": "6d66b658-0a72-4ceb-9713-60dca1668b4f",
   "metadata": {},
   "outputs": [
    {
     "name": "stdout",
     "output_type": "stream",
     "text": [
      "('your', 1128)\n",
      "('yourself', 1129)\n",
      "('\\ufeffI', 1130)\n",
      "('<|endoftext|>', 1131)\n",
      "('<unk>', 1132)\n"
     ]
    }
   ],
   "source": [
    "#printing a sample from the end of the extended vocab\n",
    "for i, item in enumerate(list(vocab.items())[-5:]):\n",
    "    print(item)"
   ]
  },
  {
   "cell_type": "code",
   "execution_count": 46,
   "id": "60289004-5a80-4ed0-8d29-606cc79a57c2",
   "metadata": {},
   "outputs": [],
   "source": [
    "#SimpleTokenzierV2 replaces unknown words with the token \"<unk>\"\n",
    "class SimpleTokenzierV2:\n",
    "    def __init__(self, vocab):\n",
    "        self.str_to_int = vocab\n",
    "        self.int_to_str = {i:s for s,i in vocab.items()}\n",
    "\n",
    "    def encode(self, text):\n",
    "        preprocessed = re.split(r'([,.:;?_!\"()\\']|--|\\s)', text)\n",
    "        preprocessed = [item.strip() for item in preprocessed if item.strip()]\n",
    "        preprocessed = [item if item in self.str_to_int\n",
    "                       else \"<unk>\" for item in preprocessed] #A\n",
    "        ids = [self.str_to_int[s] for s in preprocessed]\n",
    "        return ids\n",
    "\n",
    "    def decode(self, ids):\n",
    "        text = \" \".join([self.int_to_str[i] for i in ids])\n",
    "        text = re.sub(r'\\s+([,.?!\"()\\'])', r'\\1', text) #B\n",
    "        return text"
   ]
  },
  {
   "cell_type": "code",
   "execution_count": 48,
   "id": "64600496-2aa1-48d9-97b2-728645d548fb",
   "metadata": {},
   "outputs": [
    {
     "name": "stdout",
     "output_type": "stream",
     "text": [
      "concatenated text with endoftext marker: \n",
      "Hello, do you like tea? <|endoftext|> In the sunlit terraces of the palace.\n"
     ]
    }
   ],
   "source": [
    "#concatenating two unrelated texts\n",
    "text1 = \"Hello, do you like tea?\"\n",
    "text2 = \"In the sunlit terraces of the palace.\"\n",
    "\n",
    "text = \" <|endoftext|> \".join((text1, text2))\n",
    "print(f\"concatenated text with endoftext marker: \\n{text}\")"
   ]
  },
  {
   "cell_type": "code",
   "execution_count": 50,
   "id": "d985105e-7f40-48ac-b4dd-1c13af60c566",
   "metadata": {},
   "outputs": [
    {
     "name": "stdout",
     "output_type": "stream",
     "text": [
      "[1132, 5, 355, 1126, 628, 975, 10, 1131, 55, 988, 956, 984, 722, 988, 1132, 7]\n"
     ]
    }
   ],
   "source": [
    "#testing the SimpleTokenzierV2 on a text that is concatenation of two unrelated texts\n",
    "tokenizer = SimpleTokenzierV2(vocab)\n",
    "print(tokenizer.encode(text))"
   ]
  },
  {
   "cell_type": "markdown",
   "id": "1b3edcb7-9f9c-4e50-9a5d-44c39fe8e22f",
   "metadata": {},
   "source": [
    "we can see that the list of token IDs contains 1131 for the <|endoftext|> separator token as well as two 1132 tokens, which are used for unknown words."
   ]
  },
  {
   "cell_type": "code",
   "execution_count": null,
   "id": "992f963f-b798-4355-ad60-62f60a9f5934",
   "metadata": {},
   "outputs": [],
   "source": []
  }
 ],
 "metadata": {
  "kernelspec": {
   "display_name": "Python 3 (ipykernel)",
   "language": "python",
   "name": "python3"
  },
  "language_info": {
   "codemirror_mode": {
    "name": "ipython",
    "version": 3
   },
   "file_extension": ".py",
   "mimetype": "text/x-python",
   "name": "python",
   "nbconvert_exporter": "python",
   "pygments_lexer": "ipython3",
   "version": "3.12.4"
  }
 },
 "nbformat": 4,
 "nbformat_minor": 5
}
