{
 "cells": [
  {
   "cell_type": "code",
   "execution_count": 1,
   "id": "4b577c92-3a55-45f3-9169-1ee4a43f7985",
   "metadata": {},
   "outputs": [],
   "source": [
    "import pandas as pd"
   ]
  },
  {
   "cell_type": "code",
   "execution_count": 2,
   "id": "e7b974c1-762b-4c07-a4db-c68bc1dabd14",
   "metadata": {},
   "outputs": [
    {
     "name": "stdout",
     "output_type": "stream",
     "text": [
      "Total number of character: 20398\n",
      "﻿I HAD always thought Jack Gisburn rather a cheap genius--though a good fellow enough--so it was no\n"
     ]
    }
   ],
   "source": [
    "#Reading in a short story as text sample into Python\n",
    "with open(\"the-verdict.txt\", \"r\", encoding = \"utf-8\") as f:\n",
    "          raw_text = f.read()\n",
    "print(\"Total number of character:\", len(raw_text))\n",
    "print(raw_text[:99])"
   ]
  },
  {
   "cell_type": "markdown",
   "id": "5d37235f-e542-460a-982a-014c0eb36870",
   "metadata": {},
   "source": [
    "### Preprocessing Steps (Chapter 2)"
   ]
  },
  {
   "cell_type": "markdown",
   "id": "fca6197a-3450-476d-a75e-50e66984b1e4",
   "metadata": {},
   "source": [
    "#### 1. Tokenizing Text"
   ]
  },
  {
   "cell_type": "code",
   "execution_count": 5,
   "id": "c490f3ea-71ec-43ef-b2f7-2f6844ab5010",
   "metadata": {},
   "outputs": [
    {
     "name": "stdout",
     "output_type": "stream",
     "text": [
      "['Hello,', ' ', 'world.', ' ', 'This,', ' ', 'is', ' ', 'a', ' ', 'test.']\n"
     ]
    }
   ],
   "source": [
    "import re\n",
    "text = \"Hello, world. This, is a test.\"\n",
    "result = re.split(r'(\\s)', text)\n",
    "print(result)"
   ]
  },
  {
   "cell_type": "code",
   "execution_count": 6,
   "id": "0fd779b8-4919-4f5f-a6cc-115d8a0edff4",
   "metadata": {},
   "outputs": [
    {
     "name": "stdout",
     "output_type": "stream",
     "text": [
      "['Hello', ',', '', ' ', 'world', '.', '', ' ', 'This', ',', '', ' ', 'is', ' ', 'a', ' ', 'test', '.', '']\n"
     ]
    }
   ],
   "source": [
    "#separting punction and spaces from the text\n",
    "result = re.split(r'([,.]|\\s)', text)\n",
    "print(result)"
   ]
  },
  {
   "cell_type": "code",
   "execution_count": 7,
   "id": "a995544a-edaf-41ce-96fa-35a08f74e78d",
   "metadata": {},
   "outputs": [
    {
     "name": "stdout",
     "output_type": "stream",
     "text": [
      "['Hello', ',', 'world', '.', 'This', ',', 'is', 'a', 'test', '.']\n"
     ]
    }
   ],
   "source": [
    "#remvoing white spaces\n",
    "result = [item for item in result if item.strip()]\n",
    "print(result)"
   ]
  },
  {
   "cell_type": "code",
   "execution_count": 8,
   "id": "669d64dd-2251-47f6-9c64-7acda8a2b33c",
   "metadata": {},
   "outputs": [
    {
     "name": "stdout",
     "output_type": "stream",
     "text": [
      "Tokenized text:  ['Hello', ',', 'world', '.', 'Is', 'this', '--', 'a', 'test', '.']\n"
     ]
    }
   ],
   "source": [
    "#extending the tokenizer to handle wider range of punctuations\n",
    "text = \"Hello, world. Is this-- a test.\"\n",
    "result = re.split(r'([,.:;?_!\"()\\']|--|\\s)', text)\n",
    "result = [item.strip() for item in result if item.strip()]\n",
    "print(\"Tokenized text: \",result)"
   ]
  },
  {
   "cell_type": "code",
   "execution_count": 9,
   "id": "52690889-1543-4732-bd56-f97d409d91a9",
   "metadata": {},
   "outputs": [
    {
     "name": "stdout",
     "output_type": "stream",
     "text": [
      "length of the complete tokenized text from Edith Wharton story: 4690\n"
     ]
    }
   ],
   "source": [
    "#applying this tokenizer to the full Edith Warton's story\n",
    "preprocessed = re.split(r'([,.:;?_!\"()\\']|--|\\s)', raw_text)\n",
    "preprocessed = [item.strip() for item in preprocessed if item.strip()]\n",
    "print(f\"length of the complete tokenized text from Edith Wharton story: {len(preprocessed)}\")"
   ]
  },
  {
   "cell_type": "code",
   "execution_count": 10,
   "id": "5e98ed10-3aa6-4ce4-b66f-3c7c03abba0b",
   "metadata": {},
   "outputs": [
    {
     "name": "stdout",
     "output_type": "stream",
     "text": [
      "First 30 tokens: ['\\ufeffI', 'HAD', 'always', 'thought', 'Jack', 'Gisburn', 'rather', 'a', 'cheap', 'genius', '--', 'though', 'a', 'good', 'fellow', 'enough', '--', 'so', 'it', 'was', 'no', 'great', 'surprise', 'to', 'me', 'to', 'hear', 'that', ',', 'in']\n"
     ]
    }
   ],
   "source": [
    "#printing first 30 tokens\n",
    "print(f\"First 30 tokens: {preprocessed[:30]}\")"
   ]
  },
  {
   "cell_type": "markdown",
   "id": "d2729af4-db08-42cc-96da-34851831de5e",
   "metadata": {},
   "source": [
    "#### 2. Converting token into token IDs"
   ]
  },
  {
   "cell_type": "markdown",
   "id": "ab8fbec7-c786-45a4-be1d-96ee2f7500b3",
   "metadata": {},
   "source": [
    "create a list of all unique tokens and sort them alphabetically to determine the vocabulary"
   ]
  },
  {
   "cell_type": "code",
   "execution_count": 13,
   "id": "a4664186-5ff4-426e-940c-d5feb6aba4dd",
   "metadata": {},
   "outputs": [
    {
     "name": "stdout",
     "output_type": "stream",
     "text": [
      "Vocabulary Size: 1131\n"
     ]
    }
   ],
   "source": [
    "all_words = sorted(list(set(preprocessed)))\n",
    "vocab_size = len(all_words)\n",
    "print(f\"Vocabulary Size: {vocab_size}\")"
   ]
  },
  {
   "cell_type": "code",
   "execution_count": 14,
   "id": "5f725dd2-aa85-43c6-8110-32485f318f1c",
   "metadata": {
    "scrolled": true
   },
   "outputs": [
    {
     "name": "stdout",
     "output_type": "stream",
     "text": [
      "('!', 0)\n",
      "('\"', 1)\n",
      "(\"'\", 2)\n",
      "('(', 3)\n",
      "(')', 4)\n",
      "(',', 5)\n",
      "('--', 6)\n",
      "('.', 7)\n",
      "(':', 8)\n",
      "(';', 9)\n",
      "('?', 10)\n",
      "('A', 11)\n",
      "('Ah', 12)\n",
      "('Among', 13)\n",
      "('And', 14)\n",
      "('Are', 15)\n",
      "('Arrt', 16)\n",
      "('As', 17)\n",
      "('At', 18)\n",
      "('Be', 19)\n",
      "('Begin', 20)\n",
      "('Burlington', 21)\n",
      "('But', 22)\n",
      "('By', 23)\n",
      "('Carlo', 24)\n",
      "('Chicago', 25)\n",
      "('Claude', 26)\n",
      "('Come', 27)\n",
      "('Croft', 28)\n",
      "('Destroyed', 29)\n",
      "('Devonshire', 30)\n",
      "('Don', 31)\n",
      "('Dubarry', 32)\n",
      "('Emperors', 33)\n",
      "('Florence', 34)\n",
      "('For', 35)\n",
      "('Gallery', 36)\n",
      "('Gideon', 37)\n",
      "('Gisburn', 38)\n",
      "('Gisburns', 39)\n",
      "('Grafton', 40)\n",
      "('Greek', 41)\n",
      "('Grindle', 42)\n",
      "('Grindles', 43)\n",
      "('HAD', 44)\n",
      "('Had', 45)\n",
      "('Hang', 46)\n",
      "('Has', 47)\n",
      "('He', 48)\n",
      "('Her', 49)\n",
      "('Hermia', 50)\n",
      "('His', 51)\n"
     ]
    }
   ],
   "source": [
    "#creating a vocabulary\n",
    "vocab = {token: integer for integer, token in enumerate(all_words)}\n",
    "for i, item in enumerate(vocab.items()):\n",
    "    print(item)\n",
    "    if i > 50:\n",
    "        break"
   ]
  },
  {
   "cell_type": "code",
   "execution_count": 15,
   "id": "e9ac1c72-2497-4e7c-bad8-f6e74e43a30e",
   "metadata": {},
   "outputs": [],
   "source": [
    "#implementing a tokenizer class to tokenize text into tokens, encode tokens to integers and decode integers to tokens\n",
    "\n",
    "class SimpleTokenzierV1:\n",
    "    def __init__(self, vocab):\n",
    "        self.str_to_int = vocab #A\n",
    "        self.int_to_str = {i:s for s,i in vocab.items()} #B\n",
    "\n",
    "    def encode(self, text): #C\n",
    "        preprocessed = re.split(r'([,.:;?_!\"()\\']|--|\\s)', text)\n",
    "        preprocessed = [item.strip() for item in preprocessed if item.strip()]\n",
    "        ids = [self.str_to_int[s] for s in preprocessed]\n",
    "        return ids\n",
    "\n",
    "    def decode(self, ids): #D\n",
    "        text = \" \".join([self.int_to_str[i] for i in ids])\n",
    "        text = re.sub(r'\\s+([,.?!\"()\\'])', r'\\1', text) #E\n",
    "        return text"
   ]
  },
  {
   "cell_type": "code",
   "execution_count": 16,
   "id": "7efebd56-ea72-4f69-99b4-d070fea10075",
   "metadata": {},
   "outputs": [],
   "source": [
    "#instantiating tokenizer object to test the SimpleTokenzierV1 class\n",
    "tokenizer = SimpleTokenzierV1(vocab)"
   ]
  },
  {
   "cell_type": "code",
   "execution_count": 17,
   "id": "acfbe03a-2dce-45e2-80ed-8c2c97a86623",
   "metadata": {},
   "outputs": [
    {
     "name": "stdout",
     "output_type": "stream",
     "text": [
      "Token ids for sample text from Edith Warton's story: [1130, 44, 149, 1003, 57, 38, 818, 115, 256, 486, 6, 1002, 115, 500, 435, 392, 6, 908, 585, 1077, 709]\n"
     ]
    }
   ],
   "source": [
    "text = raw_text[:99]\n",
    "ids = tokenizer.encode(text)\n",
    "print(f\"Token ids for sample text from Edith Warton's story: {ids}\")"
   ]
  },
  {
   "cell_type": "code",
   "execution_count": 18,
   "id": "0669898e-04dc-43c2-ad50-4fd8ab344a47",
   "metadata": {},
   "outputs": [
    {
     "name": "stdout",
     "output_type": "stream",
     "text": [
      "text from decoding token ids using SimpleTokenzierV1 class: \n",
      "﻿I HAD always thought Jack Gisburn rather a cheap genius -- though a good fellow enough -- so it was no\n"
     ]
    }
   ],
   "source": [
    "#testing decoder on the token ids above\n",
    "print(f\"text from decoding token ids using SimpleTokenzierV1 class: \\n{tokenizer.decode(ids)}\")"
   ]
  },
  {
   "cell_type": "code",
   "execution_count": 19,
   "id": "6ee95db7-3368-4bb5-b76e-665cf1c192b4",
   "metadata": {},
   "outputs": [
    {
     "ename": "KeyError",
     "evalue": "'Hello'",
     "output_type": "error",
     "traceback": [
      "\u001b[0;31m---------------------------------------------------------------------------\u001b[0m",
      "\u001b[0;31mKeyError\u001b[0m                                  Traceback (most recent call last)",
      "Cell \u001b[0;32mIn[19], line 3\u001b[0m\n\u001b[1;32m      1\u001b[0m \u001b[38;5;66;03m#running the tokenizer on a sample text which is not a part of the text used to create the vocab\u001b[39;00m\n\u001b[1;32m      2\u001b[0m text \u001b[38;5;241m=\u001b[39m \u001b[38;5;124m\"\u001b[39m\u001b[38;5;124mHello, do you like tea?\u001b[39m\u001b[38;5;124m\"\u001b[39m\n\u001b[0;32m----> 3\u001b[0m tokenizer\u001b[38;5;241m.\u001b[39mencode(text)\n",
      "Cell \u001b[0;32mIn[15], line 11\u001b[0m, in \u001b[0;36mSimpleTokenzierV1.encode\u001b[0;34m(self, text)\u001b[0m\n\u001b[1;32m      9\u001b[0m preprocessed \u001b[38;5;241m=\u001b[39m re\u001b[38;5;241m.\u001b[39msplit(\u001b[38;5;124mr\u001b[39m\u001b[38;5;124m'\u001b[39m\u001b[38;5;124m([,.:;?_!\u001b[39m\u001b[38;5;124m\"\u001b[39m\u001b[38;5;124m()\u001b[39m\u001b[38;5;130;01m\\'\u001b[39;00m\u001b[38;5;124m]|--|\u001b[39m\u001b[38;5;124m\\\u001b[39m\u001b[38;5;124ms)\u001b[39m\u001b[38;5;124m'\u001b[39m, text)\n\u001b[1;32m     10\u001b[0m preprocessed \u001b[38;5;241m=\u001b[39m [item\u001b[38;5;241m.\u001b[39mstrip() \u001b[38;5;28;01mfor\u001b[39;00m item \u001b[38;5;129;01min\u001b[39;00m preprocessed \u001b[38;5;28;01mif\u001b[39;00m item\u001b[38;5;241m.\u001b[39mstrip()]\n\u001b[0;32m---> 11\u001b[0m ids \u001b[38;5;241m=\u001b[39m [\u001b[38;5;28mself\u001b[39m\u001b[38;5;241m.\u001b[39mstr_to_int[s] \u001b[38;5;28;01mfor\u001b[39;00m s \u001b[38;5;129;01min\u001b[39;00m preprocessed]\n\u001b[1;32m     12\u001b[0m \u001b[38;5;28;01mreturn\u001b[39;00m ids\n",
      "\u001b[0;31mKeyError\u001b[0m: 'Hello'"
     ]
    }
   ],
   "source": [
    "#running the tokenizer on a sample text which is not a part of the text used to create the vocab\n",
    "text = \"Hello, do you like tea?\"\n",
    "tokenizer.encode(text)"
   ]
  },
  {
   "cell_type": "markdown",
   "id": "bd2c9439-8d76-416b-903d-f72b8bf27588",
   "metadata": {},
   "source": [
    "here, the key error suggests that Hello is not a part of the vocabulary and hence we need to use large and diverse text in order to extend the vocabulary when creating a LARGE language models"
   ]
  },
  {
   "cell_type": "markdown",
   "id": "fe8b41fc-4ba2-4fb0-99ce-8eec285b0daf",
   "metadata": {},
   "source": [
    "#### 3. Adding special context tokens"
   ]
  },
  {
   "cell_type": "markdown",
   "id": "ff54ec79-f0bf-42d1-85b4-8c2cdd90a658",
   "metadata": {},
   "source": [
    "modifying SimpleTokenzierV1 to support new tokens for unknown words and document boundaries"
   ]
  },
  {
   "cell_type": "code",
   "execution_count": 56,
   "id": "05e2ebda-cfa9-4de8-9e53-6542f783e3cc",
   "metadata": {},
   "outputs": [
    {
     "name": "stdout",
     "output_type": "stream",
     "text": [
      "length of the vocabulary after extending the vocab with unknown words and end of text markers: 1133\n"
     ]
    }
   ],
   "source": [
    "'''adding tokens:\n",
    "1. <unk> - to represent unknown or new words that are not part of the vocabulary\n",
    "2. <|endoftext|> -  marker to separate two different text source from each other\n",
    "'''\n",
    "all_tokens =  sorted(list(set(preprocessed)))\n",
    "all_tokens.extend([\"<|endoftext|>\", \"<unk>\"])\n",
    "vocab = {token:integer for integer, token in enumerate(all_tokens)}\n",
    "\n",
    "print(f\"length of the vocabulary after extending the vocab with unknown words and end of text markers: {len(vocab.items())}\")"
   ]
  },
  {
   "cell_type": "code",
   "execution_count": 57,
   "id": "6d66b658-0a72-4ceb-9713-60dca1668b4f",
   "metadata": {},
   "outputs": [
    {
     "name": "stdout",
     "output_type": "stream",
     "text": [
      "('your', 1128)\n",
      "('yourself', 1129)\n",
      "('\\ufeffI', 1130)\n",
      "('<|endoftext|>', 1131)\n",
      "('<unk>', 1132)\n"
     ]
    }
   ],
   "source": [
    "#printing a sample from the end of the extended vocab\n",
    "for i, item in enumerate(list(vocab.items())[-5:]):\n",
    "    print(item)"
   ]
  },
  {
   "cell_type": "code",
   "execution_count": 58,
   "id": "60289004-5a80-4ed0-8d29-606cc79a57c2",
   "metadata": {},
   "outputs": [],
   "source": [
    "#SimpleTokenzierV2 replaces unknown words with the token \"<unk>\"\n",
    "class SimpleTokenzierV2:\n",
    "    def __init__(self, vocab):\n",
    "        self.str_to_int = vocab\n",
    "        self.int_to_str = {i:s for s,i in vocab.items()}\n",
    "\n",
    "    def encode(self, text):\n",
    "        preprocessed = re.split(r'([,.:;?_!\"()\\']|--|\\s)', text)\n",
    "        preprocessed = [item.strip() for item in preprocessed if item.strip()]\n",
    "        preprocessed = [item if item in self.str_to_int\n",
    "                       else \"<unk>\" for item in preprocessed] #A\n",
    "        ids = [self.str_to_int[s] for s in preprocessed]\n",
    "        return ids\n",
    "\n",
    "    def decode(self, ids):\n",
    "        text = \" \".join([self.int_to_str[i] for i in ids])\n",
    "        text = re.sub(r'\\s+([,.?!\"()\\'])', r'\\1', text) #B\n",
    "        return text"
   ]
  },
  {
   "cell_type": "code",
   "execution_count": 59,
   "id": "64600496-2aa1-48d9-97b2-728645d548fb",
   "metadata": {},
   "outputs": [
    {
     "name": "stdout",
     "output_type": "stream",
     "text": [
      "concatenated text with endoftext marker: \n",
      "Hello, do you like tea? <|endoftext|> In the sunlit terraces of the palace.\n"
     ]
    }
   ],
   "source": [
    "#concatenating two unrelated texts\n",
    "text1 = \"Hello, do you like tea?\"\n",
    "text2 = \"In the sunlit terraces of the palace.\"\n",
    "\n",
    "text = \" <|endoftext|> \".join((text1, text2))\n",
    "print(f\"concatenated text with endoftext marker: \\n{text}\")"
   ]
  },
  {
   "cell_type": "code",
   "execution_count": 60,
   "id": "d985105e-7f40-48ac-b4dd-1c13af60c566",
   "metadata": {},
   "outputs": [
    {
     "name": "stdout",
     "output_type": "stream",
     "text": [
      "[1132, 5, 355, 1126, 628, 975, 10, 1131, 55, 988, 956, 984, 722, 988, 1132, 7]\n"
     ]
    }
   ],
   "source": [
    "#testing the SimpleTokenzierV2 on a text that is concatenation of two unrelated texts\n",
    "tokenizer = SimpleTokenzierV2(vocab)\n",
    "print(tokenizer.encode(text))"
   ]
  },
  {
   "cell_type": "markdown",
   "id": "1b3edcb7-9f9c-4e50-9a5d-44c39fe8e22f",
   "metadata": {},
   "source": [
    "we can see that the list of token IDs contains 1131 for the <|endoftext|> separator token as well as two 1132 tokens, which are used for unknown words."
   ]
  },
  {
   "cell_type": "code",
   "execution_count": 62,
   "id": "992f963f-b798-4355-ad60-62f60a9f5934",
   "metadata": {},
   "outputs": [
    {
     "name": "stdout",
     "output_type": "stream",
     "text": [
      "<unk>, do you like tea? <|endoftext|> In the sunlit terraces of the <unk>.\n"
     ]
    }
   ],
   "source": [
    "#testing detokenizer for SimpleTokenzierV2\n",
    "print(tokenizer.decode(tokenizer.encode(text)))"
   ]
  },
  {
   "cell_type": "markdown",
   "id": "30da483c-0e6b-4b32-903b-d464161a2ae3",
   "metadata": {},
   "source": [
    "#### 4. BPE: Byte pair encoding"
   ]
  },
  {
   "cell_type": "markdown",
   "id": "fe4ce893-8eae-46ef-9641-b9cb6c426d34",
   "metadata": {},
   "source": [
    "unlike the simple tokenizer implemented above, GPT uses byte pair encoding tokenizer which does not replace unknown words with \"unk\" token but breaks down the word into subword units"
   ]
  },
  {
   "cell_type": "code",
   "execution_count": 65,
   "id": "8e303342-649a-47ea-a0a1-3286b7992c20",
   "metadata": {},
   "outputs": [
    {
     "name": "stdout",
     "output_type": "stream",
     "text": [
      "Requirement already satisfied: tiktoken in /opt/anaconda3/lib/python3.12/site-packages (0.9.0)\n",
      "Requirement already satisfied: regex>=2022.1.18 in /opt/anaconda3/lib/python3.12/site-packages (from tiktoken) (2023.10.3)\n",
      "Requirement already satisfied: requests>=2.26.0 in /opt/anaconda3/lib/python3.12/site-packages (from tiktoken) (2.32.2)\n",
      "Requirement already satisfied: charset-normalizer<4,>=2 in /opt/anaconda3/lib/python3.12/site-packages (from requests>=2.26.0->tiktoken) (2.0.4)\n",
      "Requirement already satisfied: idna<4,>=2.5 in /opt/anaconda3/lib/python3.12/site-packages (from requests>=2.26.0->tiktoken) (3.7)\n",
      "Requirement already satisfied: urllib3<3,>=1.21.1 in /opt/anaconda3/lib/python3.12/site-packages (from requests>=2.26.0->tiktoken) (2.2.2)\n",
      "Requirement already satisfied: certifi>=2017.4.17 in /opt/anaconda3/lib/python3.12/site-packages (from requests>=2.26.0->tiktoken) (2024.12.14)\n",
      "Note: you may need to restart the kernel to use updated packages.\n"
     ]
    }
   ],
   "source": [
    "pip install tiktoken"
   ]
  },
  {
   "cell_type": "code",
   "execution_count": 66,
   "id": "7b7146f5-becf-4357-a47e-af14281b27ff",
   "metadata": {},
   "outputs": [
    {
     "name": "stdout",
     "output_type": "stream",
     "text": [
      "tiktoken version: 0.9.0\n"
     ]
    }
   ],
   "source": [
    "from importlib.metadata import version\n",
    "import tiktoken\n",
    "print(\"tiktoken version:\", version(\"tiktoken\"))"
   ]
  },
  {
   "cell_type": "code",
   "execution_count": 67,
   "id": "3c35099b-4e45-48f5-bca3-45ef9fb86421",
   "metadata": {},
   "outputs": [],
   "source": [
    "tokenizer = tiktoken.get_encoding(\"gpt2\") #similar to SimpleTokenzierV2"
   ]
  },
  {
   "cell_type": "code",
   "execution_count": 68,
   "id": "76efb70b-df40-4aef-b4fc-bfb57e93e189",
   "metadata": {},
   "outputs": [
    {
     "name": "stdout",
     "output_type": "stream",
     "text": [
      "[15496, 11, 466, 345, 588, 8887, 30, 220, 50256, 554, 262, 4252, 18250, 1059, 430]\n"
     ]
    }
   ],
   "source": [
    "#encoding using BPE\n",
    "text = \"Hello, do you like tea? <|endoftext|> In the sunlit terra\"\n",
    "integers = tokenizer.encode(text, allowed_special = {\"<|endoftext|>\"})\n",
    "print(integers)"
   ]
  },
  {
   "cell_type": "markdown",
   "id": "43721223-a769-4c74-820f-b398cb0cf29d",
   "metadata": {},
   "source": [
    "here, the tokenzier handles unknown words by breaking them down into subword units or even individual characters provinding them the largest token id"
   ]
  },
  {
   "cell_type": "code",
   "execution_count": 70,
   "id": "57408055-6641-451d-bbd0-a4e15e27f5e7",
   "metadata": {},
   "outputs": [
    {
     "name": "stdout",
     "output_type": "stream",
     "text": [
      "Hello, do you like tea? <|endoftext|> In the sunlit terra\n"
     ]
    }
   ],
   "source": [
    "#decoding using BPE\n",
    "strings = tokenizer.decode(integers)\n",
    "print(strings)"
   ]
  },
  {
   "cell_type": "code",
   "execution_count": 71,
   "id": "7896b5c0-3058-4203-91fa-e62af54c2c1f",
   "metadata": {},
   "outputs": [
    {
     "name": "stdout",
     "output_type": "stream",
     "text": [
      "token id of unknown words broken down into subword units: [33901, 86, 343, 86, 220, 959]\n",
      "text of unknown words from token ids: Akwirw ier\n"
     ]
    }
   ],
   "source": [
    "text = \"Akwirw ier\"\n",
    "integers = tokenizer.encode(text)\n",
    "strings = tokenizer.decode(integers)\n",
    "print(f\"token id of unknown words broken down into subword units: {integers}\")\n",
    "print(f\"text of unknown words from token ids: {strings}\")"
   ]
  },
  {
   "cell_type": "markdown",
   "id": "5ded9f1a-f485-4708-89cf-ce099e3a2cd2",
   "metadata": {},
   "source": [
    "BPE is able to handle unknown words by building a vocab by iteratively merging frequent characters into subwords and frequest subwords into words"
   ]
  },
  {
   "cell_type": "markdown",
   "id": "f47ca912-8320-4311-a680-30a160191f5a",
   "metadata": {},
   "source": [
    "#### 5. Data Sampling with a sliding window"
   ]
  },
  {
   "cell_type": "code",
   "execution_count": 74,
   "id": "1546ad16-ada4-4bdb-a902-815c8daf2e35",
   "metadata": {},
   "outputs": [
    {
     "name": "stdout",
     "output_type": "stream",
     "text": [
      "length of tokenized Edith Warton Story 5066\n"
     ]
    }
   ],
   "source": [
    "#tokenizing the entire Edith Warton story usinf the BPE tokenizer\n",
    "with open(\"the-verdict.txt\", \"r\", encoding = \"utf-8\") as f:\n",
    "    raw_text = f.read()\n",
    "\n",
    "enc_text = tokenizer.encode(raw_text)\n",
    "print(f\"length of tokenized Edith Warton Story {len(enc_text)}\")"
   ]
  },
  {
   "cell_type": "code",
   "execution_count": 75,
   "id": "4406b915-85c7-4da9-9903-99c3fd6c3f64",
   "metadata": {},
   "outputs": [],
   "source": [
    "#taking a sample of first 50 tokens\n",
    "enc_sample = enc_text[50:]"
   ]
  },
  {
   "cell_type": "code",
   "execution_count": 76,
   "id": "9e2a4da6-50ec-4a00-8e4f-d3b7e4f54c64",
   "metadata": {},
   "outputs": [
    {
     "name": "stdout",
     "output_type": "stream",
     "text": [
      "x: [5527, 27075, 11, 290]\n",
      "y:        [27075, 11, 290, 4920]\n"
     ]
    }
   ],
   "source": [
    "#creating input-target pairs for next word prediction\n",
    "context_size = 4 #A\n",
    "\n",
    "x = enc_sample[:context_size] #contains the input tokens\n",
    "y = enc_sample[1:context_size+1] #contains targets' inputs shiftd by 1\n",
    "\n",
    "print(f\"x: {x}\")\n",
    "print(f\"y:        {y}\")"
   ]
  },
  {
   "cell_type": "code",
   "execution_count": 77,
   "id": "7d86a97f-f6a4-45fc-81fd-43550ca819bf",
   "metadata": {},
   "outputs": [
    {
     "name": "stdout",
     "output_type": "stream",
     "text": [
      "[5527] ------> 27075\n",
      "[5527, 27075] ------> 11\n",
      "[5527, 27075, 11] ------> 290\n",
      "[5527, 27075, 11, 290] ------> 4920\n"
     ]
    }
   ],
   "source": [
    "#creating the next-word prediction\n",
    "for i in range(1, context_size+1):\n",
    "    context = enc_sample[:i]\n",
    "    desired = enc_sample[i]\n",
    "    print(context, \"------>\" , desired)"
   ]
  },
  {
   "cell_type": "code",
   "execution_count": 78,
   "id": "8758840b-6325-4a81-afad-f2a7ebb9d491",
   "metadata": {},
   "outputs": [
    {
     "name": "stdout",
     "output_type": "stream",
     "text": [
      " rich ------>  widow\n",
      " rich widow ------> ,\n",
      " rich widow, ------>  and\n",
      " rich widow, and ------>  established\n"
     ]
    }
   ],
   "source": [
    "#creating the next-word prediction - visualizing the decoded text\n",
    "for i in range(1, context_size+1):\n",
    "    context = enc_sample[:i]\n",
    "    desired = enc_sample[i]\n",
    "    print(tokenizer.decode(context), \"------>\" , tokenizer.decode([desired]))"
   ]
  },
  {
   "cell_type": "code",
   "execution_count": 79,
   "id": "c18fecf2-5176-4eae-ba1c-52e19eedbb37",
   "metadata": {},
   "outputs": [],
   "source": [
    "#implementing a data loader that iterates over the input dataset and returns inputs & targets as pytorch tensors\n",
    "import torch\n",
    "from torch.utils.data import Dataset, DataLoader\n",
    "\n",
    "class GPTDatasetV1(Dataset):\n",
    "    def __init__(self, txt, tokenizer, max_length, stride):\n",
    "        self.tokenizer = tokenizer\n",
    "        self.input_ids = []\n",
    "        self.target_ids = []\n",
    "\n",
    "        token_ids = tokenizer.encode(txt) #A\n",
    "\n",
    "        for i in range(0, len(token_ids) - max_length, stride): #B\n",
    "            input_chunk = token_ids[i:i + max_length]\n",
    "            target_chunk = token_ids[i + 1: i + max_length + 1]\n",
    "            self.input_ids.append(torch.tensor(input_chunk))\n",
    "            self.target_ids.append(torch.tensor(target_chunk))\n",
    "\n",
    "    def __len__(self): #C\n",
    "        return len(self.input_ids)\n",
    "\n",
    "    def __getitem__(self, idx): #D\n",
    "        return self.input_ids[idx], self.target_ids[idx]"
   ]
  },
  {
   "cell_type": "code",
   "execution_count": 80,
   "id": "38eb38f7-2ad5-4e70-9b8b-5b57f20075f2",
   "metadata": {},
   "outputs": [],
   "source": [
    "#loading the input in batches via PyTorch DataLoader\n",
    "def create_dataloader_v1(txt, batch_size = 4, max_length = 256, stride = 128, shuffle = True, drop_last = True):\n",
    "    tokenizer = tiktoken.get_encoding(\"gpt2\") #A\n",
    "    dataset = GPTDatasetV1(txt, tokenizer, max_length, stride) #B\n",
    "    dataloader = DataLoader(dataset, batch_size = batch_size, shuffle = shuffle, drop_last = drop_last)\n",
    "    return dataloader"
   ]
  },
  {
   "cell_type": "code",
   "execution_count": 81,
   "id": "a9c30234-7d4c-45ef-8d7c-05214a08ddcd",
   "metadata": {},
   "outputs": [
    {
     "name": "stdout",
     "output_type": "stream",
     "text": [
      "[tensor([[171, 119, 123,  40]]), tensor([[119, 123,  40, 367]])]\n"
     ]
    }
   ],
   "source": [
    "#testing create_dataloader_v1 with batch_size with 1 for an LLM with context size of 4\n",
    "with open(\"the-verdict.txt\", \"r\", encoding = \"utf-8\") as f:\n",
    "    raw_text = f.read()\n",
    "\n",
    "dataloader = create_dataloader_v1(raw_text, batch_size = 1, max_length = 4, stride = 1, shuffle = False, drop_last = False)\n",
    "data_iter = iter(dataloader) #A\n",
    "first_batch = next(data_iter)\n",
    "print(first_batch)"
   ]
  },
  {
   "cell_type": "code",
   "execution_count": 82,
   "id": "3fe7b600-c361-456e-bc74-62f33ef08c66",
   "metadata": {},
   "outputs": [
    {
     "name": "stdout",
     "output_type": "stream",
     "text": [
      "[tensor([[119, 123,  40, 367]]), tensor([[ 123,   40,  367, 2885]])]\n"
     ]
    }
   ],
   "source": [
    "second_batch = next(data_iter)\n",
    "print(second_batch)"
   ]
  },
  {
   "cell_type": "markdown",
   "id": "b56c2915-b0db-427b-bc27-4f876f98a034",
   "metadata": {},
   "source": [
    "- if we compare the first and the second batch - we can observe that batch token IDs in the second batch have shifted by one position as compared to the first batch\n",
    "- stride setting determines the number of positons the tokens shift across batches, thereby emulating a sliding window approach\n",
    "- if the stride is set equal to the input window size it prevents overlap between batches"
   ]
  },
  {
   "cell_type": "code",
   "execution_count": 84,
   "id": "7c8d8b78-fcbc-4fd4-91e9-2c7d762989d6",
   "metadata": {},
   "outputs": [
    {
     "name": "stdout",
     "output_type": "stream",
     "text": [
      "Inputs: \n",
      "tensor([[  171,   119,   123,    40],\n",
      "        [  367,  2885,  1464,  1807],\n",
      "        [ 3619,   402,   271, 10899],\n",
      "        [ 2138,   257,  7026, 15632],\n",
      "        [  438,  2016,   257,   922],\n",
      "        [ 5891,  1576,   438,   568],\n",
      "        [  340,   373,   645,  1049],\n",
      "        [ 5975,   284,   502,   284]])\n",
      "Targets: \n",
      "tensor([[  119,   123,    40,   367],\n",
      "        [ 2885,  1464,  1807,  3619],\n",
      "        [  402,   271, 10899,  2138],\n",
      "        [  257,  7026, 15632,   438],\n",
      "        [ 2016,   257,   922,  5891],\n",
      "        [ 1576,   438,   568,   340],\n",
      "        [  373,   645,  1049,  5975],\n",
      "        [  284,   502,   284,  3285]])\n"
     ]
    }
   ],
   "source": [
    "#using the dataloader to sample with a batch size>1\n",
    "dataloader = create_dataloader_v1(raw_text, batch_size = 8, max_length = 4, stride = 4, shuffle = False, drop_last = False)\n",
    "data_iter = iter(dataloader) #A\n",
    "inputs, targets = next(data_iter)\n",
    "print(f\"Inputs: \\n{inputs}\")\n",
    "print(f\"Targets: \\n{targets}\")"
   ]
  },
  {
   "cell_type": "markdown",
   "id": "3412c6af-4ef2-47b6-9cec-bfb65703e120",
   "metadata": {},
   "source": [
    "increasing the stride to 4 ensure no word is skipped and avoids any overlap between batches (more overlap increase overfitting)"
   ]
  },
  {
   "cell_type": "markdown",
   "id": "96a9402b-bd32-4304-b9b9-43368a3fd0f9",
   "metadata": {},
   "source": [
    "#### 6. Creating token embeddings"
   ]
  },
  {
   "cell_type": "markdown",
   "id": "4cb3ac2d-5217-4751-adc4-c1e5a72be99b",
   "metadata": {},
   "source": [
    "Vector representation of token IDs along with token positions (absolute positional embedding) that will serve as an input data format for LLMs"
   ]
  },
  {
   "cell_type": "code",
   "execution_count": 88,
   "id": "97434fb7-3f5a-4560-8fd2-8f5afd39c04d",
   "metadata": {},
   "outputs": [],
   "source": [
    "#taking a sample of four input tokens\n",
    "input_ids = torch.tensor([2, 3, 5, 1])"
   ]
  },
  {
   "cell_type": "code",
   "execution_count": 89,
   "id": "7040bd50-37a9-4d11-abff-a631c5c05852",
   "metadata": {},
   "outputs": [],
   "source": [
    "#taking a vocab size of 6 and embedding size of 3\n",
    "vocab_size = 6\n",
    "output_dim = 3"
   ]
  },
  {
   "cell_type": "code",
   "execution_count": 90,
   "id": "93ffd25c-ed5b-465e-966c-d174f42c629f",
   "metadata": {},
   "outputs": [
    {
     "name": "stdout",
     "output_type": "stream",
     "text": [
      "Parameter containing:\n",
      "tensor([[ 0.3374, -0.1778, -0.1690],\n",
      "        [ 0.9178,  1.5810,  1.3010],\n",
      "        [ 1.2753, -0.2010, -0.1606],\n",
      "        [-0.4015,  0.9666, -1.1481],\n",
      "        [-1.1589,  0.3255, -0.6315],\n",
      "        [-2.8400, -0.7849, -1.4096]], requires_grad=True)\n"
     ]
    }
   ],
   "source": [
    "'''taking the vocab_size and output_dim to instantiate a embedding layer in PyTorch \n",
    "(setting random seed to 123 for reproducibility)'''\n",
    "\n",
    "torch.manual_seed(123)\n",
    "embedding_layer = torch.nn.Embedding(vocab_size, output_dim)\n",
    "print(embedding_layer.weight)"
   ]
  },
  {
   "cell_type": "markdown",
   "id": "f43207c9-324b-4182-9b89-eb4d25ea22df",
   "metadata": {},
   "source": [
    "- the above matrix is of 6x3 with 6 rows one for each token and 3 columns one for each embedding dimension\n",
    "- these random values are further optimized in the LLM training process via backpropagation"
   ]
  },
  {
   "cell_type": "code",
   "execution_count": 92,
   "id": "bf0877f1-4fd5-48a9-8cef-829567993aef",
   "metadata": {},
   "outputs": [
    {
     "name": "stdout",
     "output_type": "stream",
     "text": [
      "tensor([[-0.4015,  0.9666, -1.1481]], grad_fn=<EmbeddingBackward0>)\n"
     ]
    }
   ],
   "source": [
    "#applying the instantiated embedding layer to a token ID to obtain the embedding vector\n",
    "print(embedding_layer(torch.tensor([3]))) #lookup the embedding vector for this token id in the embedding layer weight matrix above"
   ]
  },
  {
   "cell_type": "code",
   "execution_count": 93,
   "id": "826c77d3-d5e1-41c6-90a8-d3f61c003db6",
   "metadata": {},
   "outputs": [
    {
     "name": "stdout",
     "output_type": "stream",
     "text": [
      "tensor([[ 1.2753, -0.2010, -0.1606],\n",
      "        [-0.4015,  0.9666, -1.1481],\n",
      "        [-2.8400, -0.7849, -1.4096],\n",
      "        [ 0.9178,  1.5810,  1.3010]], grad_fn=<EmbeddingBackward0>)\n"
     ]
    }
   ],
   "source": [
    "#applying the instantiated embedding layer to all token ID to obtain the embedding vector\n",
    "print(embedding_layer(input_ids)) "
   ]
  },
  {
   "cell_type": "markdown",
   "id": "ecdad657-a965-45d3-bd5b-26cf5d523f1b",
   "metadata": {},
   "source": [
    "#### 7. Encoding word positions"
   ]
  },
  {
   "cell_type": "code",
   "execution_count": 95,
   "id": "0b83d92e-0702-4664-bb93-55964e5bb7de",
   "metadata": {},
   "outputs": [],
   "source": [
    "output_dim = 256\n",
    "vocab_size = 50257\n",
    "token_embedding_layer = torch.nn.Embedding(vocab_size, output_dim)"
   ]
  },
  {
   "cell_type": "code",
   "execution_count": 96,
   "id": "e39a4103-0eff-4781-8da1-830730c2b84e",
   "metadata": {},
   "outputs": [
    {
     "name": "stdout",
     "output_type": "stream",
     "text": [
      "Token IDs: \n",
      "tensor([[  171,   119,   123,    40],\n",
      "        [  367,  2885,  1464,  1807],\n",
      "        [ 3619,   402,   271, 10899],\n",
      "        [ 2138,   257,  7026, 15632],\n",
      "        [  438,  2016,   257,   922],\n",
      "        [ 5891,  1576,   438,   568],\n",
      "        [  340,   373,   645,  1049],\n",
      "        [ 5975,   284,   502,   284]])\n",
      "Inputs shape: \n",
      "torch.Size([8, 4])\n"
     ]
    }
   ],
   "source": [
    "#instantiating the data loader\n",
    "max_length = 4\n",
    "dataloader = create_dataloader_v1(raw_text, batch_size = 8, max_length = max_length, stride = max_length, \n",
    "                                  shuffle = False, drop_last = False)\n",
    "data_iter = iter(dataloader)\n",
    "inputs, targets = next(data_iter)\n",
    "print(f\"Token IDs: \\n{inputs}\")\n",
    "print(f\"Inputs shape: \\n{inputs.shape}\")"
   ]
  },
  {
   "cell_type": "markdown",
   "id": "793ab400-1365-40f7-9397-ccc6f05442b0",
   "metadata": {},
   "source": [
    "the token ID tensor of shape 8X4 indicates that the data batch consists 8 text samples with 4 tokens each"
   ]
  },
  {
   "cell_type": "code",
   "execution_count": 98,
   "id": "aae7b30c-4ede-4b6a-9168-82f2d80cec97",
   "metadata": {},
   "outputs": [
    {
     "name": "stdout",
     "output_type": "stream",
     "text": [
      "torch.Size([8, 4, 256])\n"
     ]
    }
   ],
   "source": [
    "#using the embedding layer to embed these token ids in 256 dimensional vectors\n",
    "token_embeddings = token_embedding_layer(inputs)\n",
    "print(token_embeddings.shape)"
   ]
  },
  {
   "cell_type": "code",
   "execution_count": 99,
   "id": "220960c5-9adc-404c-bdf9-4fa78e53bc81",
   "metadata": {},
   "outputs": [
    {
     "name": "stdout",
     "output_type": "stream",
     "text": [
      "torch.Size([4, 256])\n"
     ]
    }
   ],
   "source": [
    "'''following the GPT model's absolute positional embedding approach - creating another embedding layer \n",
    "    with same dimension as token_embedding_layer'''\n",
    "\n",
    "context_length = max_length\n",
    "pos_embedding_layer = torch.nn.Embedding(context_length, output_dim)\n",
    "pos_embeddings = pos_embedding_layer(torch.arange(context_length))\n",
    "print(pos_embeddings.shape)"
   ]
  },
  {
   "cell_type": "code",
   "execution_count": 100,
   "id": "57ae2947-6761-4d6b-8fc2-c6a0eb46e682",
   "metadata": {},
   "outputs": [
    {
     "name": "stdout",
     "output_type": "stream",
     "text": [
      "torch.Size([8, 4, 256])\n"
     ]
    }
   ],
   "source": [
    "#adding the pos_embeddings to token_embeddings in each of the 8 batches\n",
    "input_embeddings = token_embeddings + pos_embeddings\n",
    "print(input_embeddings.shape)"
   ]
  },
  {
   "cell_type": "markdown",
   "id": "40c6267a-35a6-4b4a-9a39-6d0ec2c262b5",
   "metadata": {},
   "source": [
    "these input_embeddings are now ready to be processed by the main LLM Module"
   ]
  },
  {
   "cell_type": "markdown",
   "id": "f75c6832-8de6-4aa4-95c0-3ca09ac5598a",
   "metadata": {},
   "source": [
    "### Coding attention mechanism (Chapter 3)"
   ]
  },
  {
   "cell_type": "code",
   "execution_count": 103,
   "id": "7f0d014a-813f-4f79-be6f-975bd0beba75",
   "metadata": {},
   "outputs": [],
   "source": [
    "#taking a sample input sentence\n",
    "import torch\n",
    "inputs = torch.tensor(\n",
    "[[0.43, 0.15, 0.89], # Your (x^1) \n",
    " [0.55, 0.87, 0.66], # journey (x^2)\n",
    " [0.57, 0.85, 0.64], # starts (x^3)\n",
    " [0.22, 0.58, 0.33], # with (x^4)\n",
    " [0.77, 0.25, 0.10], # one (x^5)\n",
    " [0.05, 0.80, 0.55]] # step (x^6)\n",
    ")"
   ]
  },
  {
   "cell_type": "markdown",
   "id": "f7b77fdb-6bc1-4fd0-a932-7825db430518",
   "metadata": {},
   "source": [
    "#### 8. Computing intermediate attention scores"
   ]
  },
  {
   "cell_type": "code",
   "execution_count": 105,
   "id": "b8c48510-d7b3-46ea-9ad5-371a360ab57b",
   "metadata": {},
   "outputs": [
    {
     "name": "stdout",
     "output_type": "stream",
     "text": [
      "the computed intermediate attention scores are: \n",
      "tensor([0.9544, 1.4950, 1.4754, 0.8434, 0.7070, 1.0865])\n"
     ]
    }
   ],
   "source": [
    "#computing intermediate attention scores between query and input token by taking dot product of query with input token\n",
    "query = inputs[1] #A\n",
    "attn_scores_2 = torch.empty(inputs.shape[0])\n",
    "for i, x_i in enumerate(inputs):\n",
    "    attn_scores_2[i] = torch.dot(x_i, query)\n",
    "\n",
    "print(f\"the computed intermediate attention scores are: \\n{attn_scores_2}\")"
   ]
  },
  {
   "cell_type": "markdown",
   "id": "cc3b45e8-bf01-4040-b9b0-e2b574281b43",
   "metadata": {},
   "source": [
    "#### 9. Obtaining attention weights"
   ]
  },
  {
   "cell_type": "code",
   "execution_count": 107,
   "id": "2338eb7f-e26f-4a03-ab85-33f2a7aaeba9",
   "metadata": {},
   "outputs": [
    {
     "name": "stdout",
     "output_type": "stream",
     "text": [
      "attention weights: tensor([0.1455, 0.2278, 0.2249, 0.1285, 0.1077, 0.1656])\n",
      "sum of attention weights: 1.0000001192092896\n"
     ]
    }
   ],
   "source": [
    "#obtaining attention weights (that sum up to 1) by normalizing the attention scores\n",
    "attn_weights_2_tmp = attn_scores_2 / attn_scores_2.sum()\n",
    "print(f\"attention weights: {attn_weights_2_tmp}\")\n",
    "print(f\"sum of attention weights: {attn_weights_2_tmp.sum()}\")"
   ]
  },
  {
   "cell_type": "code",
   "execution_count": 108,
   "id": "21db5a44-bfcf-4b14-ae3b-f325e8f85bbb",
   "metadata": {},
   "outputs": [
    {
     "name": "stdout",
     "output_type": "stream",
     "text": [
      "attention weights: tensor([0.1385, 0.2379, 0.2333, 0.1240, 0.1082, 0.1581])\n",
      "sum of attention weights: 1.0\n"
     ]
    }
   ],
   "source": [
    "'''softmax function is commonly used to normalize the attention scores \n",
    "(can handle extreme values, ensures attn. weights are alays positive etc.)'''\n",
    "def softmax_naive(x):\n",
    "    return torch.exp(x) / torch.exp(x).sum(dim = 0)\n",
    "\n",
    "attn_weights_2_naive = softmax_naive(attn_scores_2)\n",
    "print(f\"attention weights: {attn_weights_2_naive}\")\n",
    "print(f\"sum of attention weights: {attn_weights_2_naive.sum()}\")"
   ]
  },
  {
   "cell_type": "code",
   "execution_count": 109,
   "id": "a6c9b51e-f747-436b-8651-6c56f7eb7d07",
   "metadata": {},
   "outputs": [
    {
     "name": "stdout",
     "output_type": "stream",
     "text": [
      "attention weights: tensor([0.1385, 0.2379, 0.2333, 0.1240, 0.1082, 0.1581])\n",
      "sum of attention weights: 1.0\n"
     ]
    }
   ],
   "source": [
    "#using PyTorch softmax funtion to prevent overflow and underflow while dealing with large or small input values\n",
    "attn_weights_2 = torch.softmax(attn_scores_2, dim = 0)\n",
    "print(f\"attention weights: {attn_weights_2}\")\n",
    "print(f\"sum of attention weights: {attn_weights_2.sum()}\")"
   ]
  },
  {
   "cell_type": "markdown",
   "id": "7e005f4c-fcf9-4592-bfe3-2a0c5071bd62",
   "metadata": {},
   "source": [
    "#### 10. Calculating context vector"
   ]
  },
  {
   "cell_type": "code",
   "execution_count": 111,
   "id": "61f35315-de17-4178-8368-8f574d5dec71",
   "metadata": {},
   "outputs": [
    {
     "name": "stdout",
     "output_type": "stream",
     "text": [
      "tensor([0.4419, 0.6515, 0.5683])\n"
     ]
    }
   ],
   "source": [
    "'''calculatin context vector by multiplying embedded input tokens with corresponding attention weights \n",
    "and then summing the resulting vectors'''\n",
    "query = inputs[1] #second input token is the query\n",
    "context_vec_2 = torch.zeros(query.shape)\n",
    "for i, x_i in enumerate(inputs):\n",
    "    context_vec_2 += attn_weights_2[i]*x_i\n",
    "\n",
    "print(context_vec_2)"
   ]
  },
  {
   "cell_type": "code",
   "execution_count": 112,
   "id": "c658dcb2-1622-41b1-a4bd-b16e25885e41",
   "metadata": {},
   "outputs": [
    {
     "name": "stdout",
     "output_type": "stream",
     "text": [
      "tensor([[0.9995, 0.9544, 0.9422, 0.4753, 0.4576, 0.6310],\n",
      "        [0.9544, 1.4950, 1.4754, 0.8434, 0.7070, 1.0865],\n",
      "        [0.9422, 1.4754, 1.4570, 0.8296, 0.7154, 1.0605],\n",
      "        [0.4753, 0.8434, 0.8296, 0.4937, 0.3474, 0.6565],\n",
      "        [0.4576, 0.7070, 0.7154, 0.3474, 0.6654, 0.2935],\n",
      "        [0.6310, 1.0865, 1.0605, 0.6565, 0.2935, 0.9450]])\n"
     ]
    }
   ],
   "source": [
    "#extending the above implementation to calculate the attention weights and context vector for all inputs\n",
    "attn_scores = torch.empty(6, 6)\n",
    "for i, x_i in enumerate(inputs):\n",
    "    for j, x_j in enumerate(inputs):\n",
    "        attn_scores[i, j] = torch.dot(x_i, x_j)\n",
    "\n",
    "print(attn_scores)"
   ]
  },
  {
   "cell_type": "code",
   "execution_count": 113,
   "id": "9c30f6e4-fd73-43c7-9ebc-cb116237ae68",
   "metadata": {},
   "outputs": [
    {
     "name": "stdout",
     "output_type": "stream",
     "text": [
      "tensor([[0.9995, 0.9544, 0.9422, 0.4753, 0.4576, 0.6310],\n",
      "        [0.9544, 1.4950, 1.4754, 0.8434, 0.7070, 1.0865],\n",
      "        [0.9422, 1.4754, 1.4570, 0.8296, 0.7154, 1.0605],\n",
      "        [0.4753, 0.8434, 0.8296, 0.4937, 0.3474, 0.6565],\n",
      "        [0.4576, 0.7070, 0.7154, 0.3474, 0.6654, 0.2935],\n",
      "        [0.6310, 1.0865, 1.0605, 0.6565, 0.2935, 0.9450]])\n"
     ]
    }
   ],
   "source": [
    "#getting the attn scores without for loop\n",
    "attn_scores = inputs @ inputs.T\n",
    "print(attn_scores)"
   ]
  },
  {
   "cell_type": "code",
   "execution_count": 114,
   "id": "9f81ef3f-2681-4f93-b121-9e87f9785193",
   "metadata": {},
   "outputs": [
    {
     "name": "stdout",
     "output_type": "stream",
     "text": [
      "tensor([[0.2098, 0.2006, 0.1981, 0.1242, 0.1220, 0.1452],\n",
      "        [0.1385, 0.2379, 0.2333, 0.1240, 0.1082, 0.1581],\n",
      "        [0.1390, 0.2369, 0.2326, 0.1242, 0.1108, 0.1565],\n",
      "        [0.1435, 0.2074, 0.2046, 0.1462, 0.1263, 0.1720],\n",
      "        [0.1526, 0.1958, 0.1975, 0.1367, 0.1879, 0.1295],\n",
      "        [0.1385, 0.2184, 0.2128, 0.1420, 0.0988, 0.1896]])\n"
     ]
    }
   ],
   "source": [
    "#normalizing each row in the above output to sum up the values to 1\n",
    "attn_weights  = torch.softmax(attn_scores, dim=1)\n",
    "print(attn_weights)"
   ]
  },
  {
   "cell_type": "code",
   "execution_count": 115,
   "id": "082f89de-17e3-46ed-87f0-5d8846c3820d",
   "metadata": {},
   "outputs": [
    {
     "name": "stdout",
     "output_type": "stream",
     "text": [
      "Row 2 sum: 0.9999\n",
      "All row sum: tensor([1.0000, 1.0000, 1.0000, 1.0000, 1.0000, 1.0000])\n"
     ]
    }
   ],
   "source": [
    "#verifying the normalization\n",
    "row_2_sum = sum([0.2098, 0.2006, 0.1981, 0.1242, 0.1220, 0.1452])\n",
    "print(f\"Row 2 sum: {row_2_sum}\")\n",
    "print(f\"All row sum: {attn_weights.sum(dim=1)}\")"
   ]
  },
  {
   "cell_type": "code",
   "execution_count": 116,
   "id": "4431b7bb-78b4-4c83-a61e-af620c25ee29",
   "metadata": {},
   "outputs": [
    {
     "name": "stdout",
     "output_type": "stream",
     "text": [
      "tensor([[0.4421, 0.5931, 0.5790],\n",
      "        [0.4419, 0.6515, 0.5683],\n",
      "        [0.4431, 0.6496, 0.5671],\n",
      "        [0.4304, 0.6298, 0.5510],\n",
      "        [0.4671, 0.5910, 0.5266],\n",
      "        [0.4177, 0.6503, 0.5645]])\n"
     ]
    }
   ],
   "source": [
    "#getting context vectors\n",
    "all_context_vecs = attn_weights @ inputs\n",
    "print(all_context_vecs)"
   ]
  },
  {
   "cell_type": "code",
   "execution_count": 117,
   "id": "fa6d1696-dfbb-4018-a98c-52aacca0d23b",
   "metadata": {},
   "outputs": [
    {
     "name": "stdout",
     "output_type": "stream",
     "text": [
      "Previous 2nd context vector: tensor([0.4419, 0.6515, 0.5683])\n"
     ]
    }
   ],
   "source": [
    "#cross validating th context vecs with the previously generated context vec for second row\n",
    "print(f\"Previous 2nd context vector: {context_vec_2}\")"
   ]
  },
  {
   "cell_type": "markdown",
   "id": "78ebb682-380b-412b-92d5-601e15815b10",
   "metadata": {},
   "source": [
    "#### 11. Implementing self-attention with trainable weights\n",
    "Enable LLM to learn from data and improve its performance on specific tasks"
   ]
  },
  {
   "cell_type": "code",
   "execution_count": 119,
   "id": "9676a9fb-8bb5-426c-8096-fd0bf550702b",
   "metadata": {},
   "outputs": [],
   "source": [
    "#computing attention weights step by step\n",
    "x_2 = inputs[1] #A\n",
    "d_in = inputs.shape[1] #B\n",
    "d_out = 2 #C"
   ]
  },
  {
   "cell_type": "code",
   "execution_count": 120,
   "id": "22263d25-f21f-4fa6-b471-0a37d060a341",
   "metadata": {},
   "outputs": [],
   "source": [
    "#intializing 3 weight metrics\n",
    "torch.manual_seed(123)\n",
    "W_query = torch.nn.Parameter(torch.rand(d_in, d_out), requires_grad =  False)\n",
    "W_key = torch.nn.Parameter(torch.rand(d_in, d_out), requires_grad =  False)\n",
    "W_value = torch.nn.Parameter(torch.rand(d_in, d_out), requires_grad =  False)"
   ]
  },
  {
   "cell_type": "code",
   "execution_count": 121,
   "id": "3f79a0fc-7143-4ea6-9d52-3ba027565ad6",
   "metadata": {},
   "outputs": [
    {
     "name": "stdout",
     "output_type": "stream",
     "text": [
      "tensor([0.4306, 1.4551])\n"
     ]
    }
   ],
   "source": [
    "#computing query, key, and value vectors\n",
    "query_2 = x_2 @ W_query\n",
    "key_2 = x_2 @ W_key\n",
    "value_2 = x_2 @ W_value\n",
    "print(query_2)"
   ]
  },
  {
   "cell_type": "code",
   "execution_count": 122,
   "id": "6b5e288c-b3da-4cb7-b060-73114686cf72",
   "metadata": {},
   "outputs": [
    {
     "name": "stdout",
     "output_type": "stream",
     "text": [
      "keys.shape: torch.Size([6, 2])\n",
      "value.shape: torch.Size([6, 2])\n"
     ]
    }
   ],
   "source": [
    "#obtaining all keys and values\n",
    "keys = inputs @ W_key\n",
    "value = inputs @ W_value\n",
    "print(f\"keys.shape: {keys.shape}\")\n",
    "print(f\"value.shape: {value.shape}\")"
   ]
  },
  {
   "cell_type": "code",
   "execution_count": 123,
   "id": "b73e3c48-2186-4d81-87b8-14b21bb611d7",
   "metadata": {},
   "outputs": [
    {
     "name": "stdout",
     "output_type": "stream",
     "text": [
      "tensor(1.8524)\n"
     ]
    }
   ],
   "source": [
    "#computing attention scores\n",
    "keys_2 = keys[1] #A\n",
    "attn_score_22 = query_2.dot(keys_2)\n",
    "print(attn_score_22)"
   ]
  },
  {
   "cell_type": "code",
   "execution_count": 124,
   "id": "7f227445-e41f-41ea-a2e0-495288e83d31",
   "metadata": {},
   "outputs": [
    {
     "name": "stdout",
     "output_type": "stream",
     "text": [
      "tensor([1.2705, 1.8524, 1.8111, 1.0795, 0.5577, 1.5440])\n"
     ]
    }
   ],
   "source": [
    "#applying across all attention scores\n",
    "attn_scores_2 = query_2 @ keys.T\n",
    "print(attn_scores_2)"
   ]
  },
  {
   "cell_type": "code",
   "execution_count": 125,
   "id": "b196aeb5-c3d3-4277-8705-37c4da1bfd9f",
   "metadata": {},
   "outputs": [
    {
     "name": "stdout",
     "output_type": "stream",
     "text": [
      "tensor([0.1500, 0.2264, 0.2199, 0.1311, 0.0906, 0.1820])\n"
     ]
    }
   ],
   "source": [
    "'''normalizing the attention scores using softmax to get attention weights.\n",
    "scaling attention scores by dividing them by square root (or exponentiating by 0.5) of the embedding dimension of the keys\n",
    "'''\n",
    "d_k = keys.shape[-1]\n",
    "attn_weights_2 = torch.softmax(attn_scores_2 / d_k ** 0.5, dim = -1)\n",
    "print(attn_weights_2)"
   ]
  },
  {
   "cell_type": "code",
   "execution_count": 126,
   "id": "f5398d99-08a4-4a8f-bf5d-2789d1a45237",
   "metadata": {},
   "outputs": [
    {
     "name": "stdout",
     "output_type": "stream",
     "text": [
      "tensor([0.3061, 0.8210])\n"
     ]
    }
   ],
   "source": [
    "#computing context vectors\n",
    "context_vec_2 = attn_weights_2 @ value\n",
    "print(context_vec_2)"
   ]
  },
  {
   "cell_type": "code",
   "execution_count": 127,
   "id": "8ce1a212-1793-4234-902e-82af76913861",
   "metadata": {},
   "outputs": [],
   "source": [
    "# implementing a compact self-attention python class\n",
    "import torch.nn as nn\n",
    "\n",
    "class SelfAttention_v1(nn.Module):\n",
    "    def __init__(self, d_in, d_out):\n",
    "        '''initializes trainable weights for:\n",
    "        queries, keys, values -- each transforming the input \n",
    "        with dimension d_in to dimension d_out\n",
    "        '''\n",
    "        super().__init__()\n",
    "        self.d_out = d_out\n",
    "        self.W_query = nn.Parameter(torch.rand(d_in, d_out))\n",
    "        self.W_key = nn.Parameter(torch.rand(d_in, d_out))\n",
    "        self.W_value = nn.Parameter(torch.rand(d_in, d_out))\n",
    "\n",
    "    def forward(self, x):\n",
    "        '''computing attention scores'''\n",
    "        keys = x @ self.W_key\n",
    "        queries = x @ self.W_query\n",
    "        values = x @ self.W_value\n",
    "        attn_scores = queries @ keys.T #omega\n",
    "        attn_weights = torch.softmax(attn_scores / keys.shape[-1]**0.5, dim = -1)\n",
    "        context_vec = attn_weights @ values\n",
    "        return context_vec"
   ]
  },
  {
   "cell_type": "code",
   "execution_count": 128,
   "id": "e2fb24b4-af12-420b-907b-7db90d414d6b",
   "metadata": {},
   "outputs": [
    {
     "name": "stdout",
     "output_type": "stream",
     "text": [
      "tensor([[0.2996, 0.8053],\n",
      "        [0.3061, 0.8210],\n",
      "        [0.3058, 0.8203],\n",
      "        [0.2948, 0.7939],\n",
      "        [0.2927, 0.7891],\n",
      "        [0.2990, 0.8040]], grad_fn=<MmBackward0>)\n"
     ]
    }
   ],
   "source": [
    "#using the above class\n",
    "torch.manual_seed(123)\n",
    "sa_v1 = SelfAttention_v1(d_in, d_out)\n",
    "print(sa_v1(inputs))"
   ]
  },
  {
   "cell_type": "markdown",
   "id": "47ecec13-9bf6-4865-a864-13337a4cf0c0",
   "metadata": {},
   "source": [
    "the second row here matches with the context_vec_2"
   ]
  },
  {
   "cell_type": "code",
   "execution_count": 130,
   "id": "7e801ad8-efda-4ab4-8c81-ae094707f5af",
   "metadata": {},
   "outputs": [],
   "source": [
    "#self-attention class using PyTorch's Linear layers (has optimized weight intialization scheme)\n",
    "class SelfAttention_v2(nn.Module):\n",
    "    def __init__(self, d_in, d_out, qkv_bias = False):\n",
    "        super().__init__()\n",
    "        self.d_out = d_out\n",
    "        self.W_query = nn.Linear(d_in, d_out, bias = qkv_bias)\n",
    "        self.W_key = nn.Linear(d_in, d_out, bias = qkv_bias)\n",
    "        self.W_value = nn.Linear(d_in, d_out, bias = qkv_bias)\n",
    "\n",
    "    def forward(self, x):\n",
    "        keys = self.W_key(x)\n",
    "        queries = self.W_query(x)\n",
    "        values = self.W_value(x)\n",
    "        attn_scores = queries @ keys.T\n",
    "        attn_weights = torch.softmax(attn_scores / keys.shape[-1]**0.5, dim = -1)\n",
    "        context_vec = attn_weights @ values\n",
    "        return context_vec"
   ]
  },
  {
   "cell_type": "code",
   "execution_count": 131,
   "id": "71b9f0da-3e4d-4597-bb48-e9912d3e86a5",
   "metadata": {},
   "outputs": [
    {
     "name": "stdout",
     "output_type": "stream",
     "text": [
      "tensor([[-0.0739,  0.0713],\n",
      "        [-0.0748,  0.0703],\n",
      "        [-0.0749,  0.0702],\n",
      "        [-0.0760,  0.0685],\n",
      "        [-0.0763,  0.0679],\n",
      "        [-0.0754,  0.0693]], grad_fn=<MmBackward0>)\n"
     ]
    }
   ],
   "source": [
    "#using the above class\n",
    "torch.manual_seed(789)\n",
    "sa_v2 = SelfAttention_v2(d_in, d_out)\n",
    "print(sa_v2(inputs))"
   ]
  },
  {
   "cell_type": "markdown",
   "id": "35293227-3ff5-434f-a64d-056399f43209",
   "metadata": {},
   "source": [
    "both sa_v1 and sa_v2 have different outputs because they use different initial weights"
   ]
  },
  {
   "cell_type": "markdown",
   "id": "0eaf5a8f-eab9-4fb3-a960-84ee558b5711",
   "metadata": {},
   "source": [
    "#### 12. Hiding future words with casual attention (masked attention)"
   ]
  },
  {
   "cell_type": "code",
   "execution_count": 134,
   "id": "c7c3bbed-b612-40aa-99e0-13f7688f0cdb",
   "metadata": {},
   "outputs": [
    {
     "name": "stdout",
     "output_type": "stream",
     "text": [
      "tensor([[0.1921, 0.1646, 0.1652, 0.1550, 0.1721, 0.1510],\n",
      "        [0.2041, 0.1659, 0.1662, 0.1496, 0.1665, 0.1477],\n",
      "        [0.2036, 0.1659, 0.1662, 0.1498, 0.1664, 0.1480],\n",
      "        [0.1869, 0.1667, 0.1668, 0.1571, 0.1661, 0.1564],\n",
      "        [0.1830, 0.1669, 0.1670, 0.1588, 0.1658, 0.1585],\n",
      "        [0.1935, 0.1663, 0.1666, 0.1542, 0.1666, 0.1529]],\n",
      "       grad_fn=<SoftmaxBackward0>)\n"
     ]
    }
   ],
   "source": [
    "#computing attention weights using softmax function\n",
    "queries = sa_v2.W_query(inputs)\n",
    "keys = sa_v2.W_key(inputs)\n",
    "attn_scores = queries @ keys.T\n",
    "attn_weights = torch.softmax(attn_scores / keys.shape[-1]**0.5, dim = -1)\n",
    "print(attn_weights)"
   ]
  },
  {
   "cell_type": "code",
   "execution_count": 135,
   "id": "e1268b19-ffe0-4612-bb14-d5920542f796",
   "metadata": {},
   "outputs": [
    {
     "name": "stdout",
     "output_type": "stream",
     "text": [
      "tensor([[1., 0., 0., 0., 0., 0.],\n",
      "        [1., 1., 0., 0., 0., 0.],\n",
      "        [1., 1., 1., 0., 0., 0.],\n",
      "        [1., 1., 1., 1., 0., 0.],\n",
      "        [1., 1., 1., 1., 1., 0.],\n",
      "        [1., 1., 1., 1., 1., 1.]])\n"
     ]
    }
   ],
   "source": [
    "#using PyTorch tril function to create a mask where values above the diagnol are zero\n",
    "context_length = attn_scores.shape[0]\n",
    "mask_simple = torch.tril(torch.ones(context_length, context_length))\n",
    "print(mask_simple)"
   ]
  },
  {
   "cell_type": "code",
   "execution_count": 136,
   "id": "d07c3736-a496-46d0-80eb-33ee182425a3",
   "metadata": {},
   "outputs": [
    {
     "name": "stdout",
     "output_type": "stream",
     "text": [
      "tensor([[0.1921, 0.0000, 0.0000, 0.0000, 0.0000, 0.0000],\n",
      "        [0.2041, 0.1659, 0.0000, 0.0000, 0.0000, 0.0000],\n",
      "        [0.2036, 0.1659, 0.1662, 0.0000, 0.0000, 0.0000],\n",
      "        [0.1869, 0.1667, 0.1668, 0.1571, 0.0000, 0.0000],\n",
      "        [0.1830, 0.1669, 0.1670, 0.1588, 0.1658, 0.0000],\n",
      "        [0.1935, 0.1663, 0.1666, 0.1542, 0.1666, 0.1529]],\n",
      "       grad_fn=<MulBackward0>)\n"
     ]
    }
   ],
   "source": [
    "#multiplying the mask with attention weights to zero out the values above the diagnol\n",
    "masked_simple = attn_weights * mask_simple\n",
    "print(masked_simple)"
   ]
  },
  {
   "cell_type": "code",
   "execution_count": 137,
   "id": "11ad9f6e-c0c4-4056-9b48-79a394dd36a9",
   "metadata": {},
   "outputs": [
    {
     "name": "stdout",
     "output_type": "stream",
     "text": [
      "tensor([[1.0000, 0.0000, 0.0000, 0.0000, 0.0000, 0.0000],\n",
      "        [0.5517, 0.4483, 0.0000, 0.0000, 0.0000, 0.0000],\n",
      "        [0.3800, 0.3097, 0.3103, 0.0000, 0.0000, 0.0000],\n",
      "        [0.2758, 0.2460, 0.2462, 0.2319, 0.0000, 0.0000],\n",
      "        [0.2175, 0.1983, 0.1984, 0.1888, 0.1971, 0.0000],\n",
      "        [0.1935, 0.1663, 0.1666, 0.1542, 0.1666, 0.1529]],\n",
      "       grad_fn=<DivBackward0>)\n"
     ]
    }
   ],
   "source": [
    "#renormalizing the attention weights to sum up the weight to 1 in each row\n",
    "row_sums = masked_simple.sum(dim = 1, keepdim = True)\n",
    "masked_simple_norm = masked_simple / row_sums\n",
    "print(masked_simple_norm)"
   ]
  },
  {
   "cell_type": "code",
   "execution_count": 138,
   "id": "4ef344dd-c6ac-4912-bb13-b5feb96f306f",
   "metadata": {},
   "outputs": [
    {
     "name": "stdout",
     "output_type": "stream",
     "text": [
      "tensor([[0.2899,   -inf,   -inf,   -inf,   -inf,   -inf],\n",
      "        [0.4656, 0.1723,   -inf,   -inf,   -inf,   -inf],\n",
      "        [0.4594, 0.1703, 0.1731,   -inf,   -inf,   -inf],\n",
      "        [0.2642, 0.1024, 0.1036, 0.0186,   -inf,   -inf],\n",
      "        [0.2183, 0.0874, 0.0882, 0.0177, 0.0786,   -inf],\n",
      "        [0.3408, 0.1270, 0.1290, 0.0198, 0.1290, 0.0078]],\n",
      "       grad_fn=<MaskedFillBackward0>)\n"
     ]
    }
   ],
   "source": [
    "#masking attention scores with negative infinity values\n",
    "mask = torch.triu(torch.ones(context_length, context_length), diagonal = 1)\n",
    "masked = attn_scores.masked_fill(mask.bool(), -torch.inf)\n",
    "print(masked)"
   ]
  },
  {
   "cell_type": "code",
   "execution_count": 139,
   "id": "96b5631a-8c8e-4db3-a5d0-3a0639d193de",
   "metadata": {},
   "outputs": [
    {
     "name": "stdout",
     "output_type": "stream",
     "text": [
      "tensor([[1.0000, 0.0000, 0.0000, 0.0000, 0.0000, 0.0000],\n",
      "        [0.5517, 0.4483, 0.0000, 0.0000, 0.0000, 0.0000],\n",
      "        [0.3800, 0.3097, 0.3103, 0.0000, 0.0000, 0.0000],\n",
      "        [0.2758, 0.2460, 0.2462, 0.2319, 0.0000, 0.0000],\n",
      "        [0.2175, 0.1983, 0.1984, 0.1888, 0.1971, 0.0000],\n",
      "        [0.1935, 0.1663, 0.1666, 0.1542, 0.1666, 0.1529]],\n",
      "       grad_fn=<SoftmaxBackward0>)\n"
     ]
    }
   ],
   "source": [
    "#applying softmax function on the masked results to normalize each row\n",
    "attn_weights = torch.softmax(masked / keys.shape[-1]**0.5, dim = 1)\n",
    "print(attn_weights)"
   ]
  },
  {
   "cell_type": "markdown",
   "id": "b06c6e6f-04d9-4100-9936-503ab666ddf1",
   "metadata": {},
   "source": [
    "Softmax function converts intputs to probability distribution and treats negative infinity values as zero probability"
   ]
  },
  {
   "cell_type": "markdown",
   "id": "e36abad9-9d15-4b0e-829a-9918d46b2907",
   "metadata": {},
   "source": [
    "#### 13. Masking additonal attention weights with dropout"
   ]
  },
  {
   "cell_type": "markdown",
   "id": "59e28ac1-9bbd-481c-a5a8-924c505b0aee",
   "metadata": {},
   "source": [
    "DL technique where randomly selected layers are ignored during training (dropping them out)"
   ]
  },
  {
   "cell_type": "code",
   "execution_count": 143,
   "id": "27f0373a-4606-4a46-80e6-94ac1096efc0",
   "metadata": {},
   "outputs": [
    {
     "name": "stdout",
     "output_type": "stream",
     "text": [
      "tensor([[2., 2., 0., 2., 2., 0.],\n",
      "        [0., 0., 0., 2., 0., 2.],\n",
      "        [2., 2., 2., 2., 0., 2.],\n",
      "        [0., 2., 2., 0., 0., 2.],\n",
      "        [0., 2., 0., 2., 0., 2.],\n",
      "        [0., 2., 2., 2., 2., 0.]])\n"
     ]
    }
   ],
   "source": [
    "#implementing drop out rate of 50% - masking 50% of attention weights\n",
    "torch.manual_seed(123)\n",
    "dropout = torch.nn.Dropout(0.5) #A\n",
    "example = torch.ones(6, 6) #B\n",
    "print(dropout(example))"
   ]
  },
  {
   "cell_type": "markdown",
   "id": "18558e56-ac67-4911-b52a-e4a3bd4ef25f",
   "metadata": {},
   "source": [
    "- random elements are set to zero and the remaining values as scaled by a factor of 1/0.5 to compensate for this reduction in elements.\n",
    "- this scaling helps maintain the average influence of the attention mechanism during both training and inference"
   ]
  },
  {
   "cell_type": "code",
   "execution_count": 145,
   "id": "7364a6c4-d7e6-4f1b-a81f-8421f75ca8cb",
   "metadata": {},
   "outputs": [
    {
     "name": "stdout",
     "output_type": "stream",
     "text": [
      "tensor([[2.0000, 0.0000, 0.0000, 0.0000, 0.0000, 0.0000],\n",
      "        [0.0000, 0.0000, 0.0000, 0.0000, 0.0000, 0.0000],\n",
      "        [0.7599, 0.6194, 0.6206, 0.0000, 0.0000, 0.0000],\n",
      "        [0.0000, 0.4921, 0.4925, 0.0000, 0.0000, 0.0000],\n",
      "        [0.0000, 0.3966, 0.0000, 0.3775, 0.0000, 0.0000],\n",
      "        [0.0000, 0.3327, 0.3331, 0.3084, 0.3331, 0.0000]],\n",
      "       grad_fn=<MulBackward0>)\n"
     ]
    }
   ],
   "source": [
    "#applying drop out to attention weight matrix\n",
    "torch.manual_seed(123)\n",
    "print(dropout(attn_weights))"
   ]
  },
  {
   "cell_type": "code",
   "execution_count": 146,
   "id": "4fba2a49-5d49-4bdf-9ba8-f1d8058047ac",
   "metadata": {},
   "outputs": [],
   "source": [
    "#implementing compact casual attention class\n",
    "class CasualAttention(nn.Module):\n",
    "\n",
    "    def __init__(self, d_in, d_out, context_length, dropout, qkv_bias = False):\n",
    "        super().__init__()\n",
    "        self.d_out = d_out\n",
    "        self.W_query = nn.Linear(d_in, d_out, bias = qkv_bias)\n",
    "        self.W_key = nn.Linear(d_in, d_out, bias = qkv_bias)\n",
    "        self.W_value = nn.Linear(d_in, d_out, bias = qkv_bias)\n",
    "        self.dropout = nn.Dropout(dropout) #A\n",
    "        self.register_buffer('mask', torch.triu(torch.ones(context_length, context_length), diagonal = 1)) #B\n",
    "\n",
    "    def forward(self, x):\n",
    "        b, num_tokens, d_in = x.shape #batch dimension b\n",
    "        keys = self.W_key(x)\n",
    "        queries = self.W_query(x)\n",
    "        values = self.W_value(x)\n",
    "\n",
    "        attn_scores = queries @ keys.transpose(1, 2) #C\n",
    "        attn_scores.masked_fill_(self.mask.bool()[:num_tokens, :num_tokens], -torch.inf) #D\n",
    "        attn_weights = torch.softmax(attn_scores / (keys.shape[-1]**0.5), dim = -1)\n",
    "        attn_weights = self.dropout(attn_weights)\n",
    "\n",
    "        context_vec = attn_weights @ values\n",
    "        return context_vec"
   ]
  },
  {
   "cell_type": "code",
   "execution_count": 147,
   "id": "5fb2fe15-e5ca-4107-a0ff-1e155f181e6c",
   "metadata": {},
   "outputs": [
    {
     "name": "stdout",
     "output_type": "stream",
     "text": [
      "context_vecs shape: torch.Size([2, 6, 2])\n"
     ]
    }
   ],
   "source": [
    "#using the CasualAttention class\n",
    "batch_size = 2\n",
    "batch = torch.randn(batch_size, context_length, d_in)  \n",
    "\n",
    "torch.manual_seed(123)\n",
    "context_length = batch.shape[1]\n",
    "ca = CasualAttention(d_in, d_out, context_length, 0.0)\n",
    "context_vecs = ca(batch)\n",
    "print(f\"context_vecs shape: {context_vecs.shape}\")"
   ]
  },
  {
   "cell_type": "markdown",
   "id": "ffad2196-dc5e-4f34-ac09-a684cf1577d9",
   "metadata": {},
   "source": [
    "#### 14. Extending single-head attention to multi-head attention"
   ]
  },
  {
   "cell_type": "markdown",
   "id": "96c783a0-96ac-49e3-ae35-f29bd9e51f92",
   "metadata": {},
   "source": [
    "dividing attention mechanism into mutiple head - each operating independently"
   ]
  },
  {
   "cell_type": "code",
   "execution_count": 150,
   "id": "40b9a545-decc-4127-822d-fafb952657f9",
   "metadata": {},
   "outputs": [],
   "source": [
    "#stacking multiple single-head attention layers\n",
    "\n",
    "class MultiHeadAttentionWrapper(nn.Module):\n",
    "    \n",
    "    def __init__(self, d_in, d_out, context_length, dropout, num_heads, qkv_bias = False):\n",
    "        super().__init__()\n",
    "        self.heads = nn.ModuleList([CasualAttention(d_in, d_out, context_length, dropout, qkv_bias)\n",
    "                                   for _ in range(num_heads)])\n",
    "\n",
    "    def forward(self, x):\n",
    "        return torch.cat([head(x) for head in self.heads], dim = -1)"
   ]
  },
  {
   "cell_type": "code",
   "execution_count": 151,
   "id": "3a026232-f840-4d11-b25d-5dfecab2058d",
   "metadata": {},
   "outputs": [
    {
     "name": "stdout",
     "output_type": "stream",
     "text": [
      "tensor([[[ 0.4593, -0.2785, -0.4767, -0.1330],\n",
      "         [ 0.4732, -0.1399, -0.4944, -0.1421],\n",
      "         [ 0.1026, -0.4158, -0.1594,  0.2188],\n",
      "         [ 0.1373, -0.1506, -0.1594,  0.0565],\n",
      "         [-0.3830, -0.0754,  0.1471,  0.2819],\n",
      "         [-0.0794, -0.2116,  0.1015,  0.3038]],\n",
      "\n",
      "        [[ 0.1174,  1.1445,  0.0553, -0.7877],\n",
      "         [ 0.3912,  0.9934, -0.3112, -0.7816],\n",
      "         [ 0.3936,  0.9043, -0.3300, -0.6898],\n",
      "         [ 0.2705,  0.4034, -0.2218, -0.4146],\n",
      "         [ 0.3510,  0.6279, -0.2101, -0.1913],\n",
      "         [ 0.3235,  0.6054, -0.2006, -0.2066]]], grad_fn=<CatBackward0>)\n",
      "context_vecs shape: torch.Size([2, 6, 4])\n"
     ]
    }
   ],
   "source": [
    "#using MultiHeadAttentionWrapper class\n",
    "torch.manual_seed(123)\n",
    "context_length = batch.shape[1] #number of tokens\n",
    "d_in, d_out = 3, 2\n",
    "mha = MultiHeadAttentionWrapper(d_in, d_out, context_length, 0.0, num_heads = 2)\n",
    "context_vecs = mha(batch)\n",
    "\n",
    "print(context_vecs)\n",
    "print(f\"context_vecs shape: {context_vecs.shape}\")"
   ]
  },
  {
   "cell_type": "code",
   "execution_count": 152,
   "id": "346242f7-31aa-4541-902c-844c63c72596",
   "metadata": {},
   "outputs": [],
   "source": [
    "#implementing multi-head attention with weight splits\n",
    "class MultiHeadAttention(nn.Module):\n",
    "    \n",
    "    def __init__(self, d_in, d_out, context_length, dropout, num_heads, qkv_bias = False):\n",
    "        super().__init__()\n",
    "        assert d_out % num_heads == 0 #d_out must be visible by num\n",
    "        self.d_out = d_out\n",
    "        self.num_heads = num_heads\n",
    "        self.head_dim = d_out // num_heads #A\n",
    "        self.W_query = nn.Linear(d_in, d_out, bias = qkv_bias)\n",
    "        self.W_key = nn.Linear(d_in, d_out, bias = qkv_bias)\n",
    "        self.W_value = nn.Linear(d_in, d_out, bias = qkv_bias)\n",
    "        self.out_proj = nn.Linear(d_out, d_out) #B\n",
    "        self.dropout = nn.Dropout(dropout)\n",
    "        self.register_buffer('mask', torch.triu(torch.ones(context_length, context_length), diagonal = 1))\n",
    "\n",
    "    def forward(self, x):\n",
    "        b, num_tokens, d_in = x.shape\n",
    "        keys = self.W_key(x) #C\n",
    "        queries = self.W_query(x) #C\n",
    "        values = self.W_value(x) #C\n",
    "\n",
    "        keys = keys.view(b, num_tokens, self.num_heads, self.head_dim) #D\n",
    "        queries = queries.view(b, num_tokens, self.num_heads, self.head_dim) #D\n",
    "        values = values.view(b, num_tokens, self.num_heads, self.head_dim) #D\n",
    "\n",
    "        keys = keys.transpose(1, 2) #E\n",
    "        queries = queries.transpose(1, 2) #E\n",
    "        values = values.transpose(1, 2) #E\n",
    "\n",
    "        attn_scores = queries @ keys.transpose(2, 3) #F\n",
    "        mask_bool = self.mask.bool()[:num_tokens, :num_tokens] #G\n",
    "\n",
    "        attn_scores.masked_fill_(mask_bool, -torch.inf) #H\n",
    "\n",
    "        attn_weights = torch.softmax(attn_scores / keys.shape[-1] ** 0.5, dim = -1)\n",
    "        attn_weights = self.dropout(attn_weights)\n",
    "\n",
    "        context_vec = (attn_weights @ values).transpose(1, 2) #I #J\n",
    "        context_vec = context_vec.contiguous().view(b, num_tokens, self.d_out)\n",
    "        context_vec = self.out_proj(context_vec) #K\n",
    "        return context_vec"
   ]
  },
  {
   "cell_type": "code",
   "execution_count": 153,
   "id": "a7ea5b9d-de21-431b-a7c1-dd37baba3aef",
   "metadata": {},
   "outputs": [
    {
     "name": "stdout",
     "output_type": "stream",
     "text": [
      "tensor([[[0.0536, 0.8755],\n",
      "         [0.0841, 0.9012],\n",
      "         [0.0730, 0.6893],\n",
      "         [0.1485, 0.7239],\n",
      "         [0.2545, 0.4834],\n",
      "         [0.1575, 0.5968]],\n",
      "\n",
      "        [[0.4336, 0.8920],\n",
      "         [0.3494, 1.0295],\n",
      "         [0.3310, 1.0099],\n",
      "         [0.2171, 0.8726],\n",
      "         [0.2820, 0.9429],\n",
      "         [0.2826, 0.9248]]], grad_fn=<ViewBackward0>)\n",
      "context_vecs shape: torch.Size([2, 6, 2])\n"
     ]
    }
   ],
   "source": [
    "#using the MultiHeadAttention class\n",
    "torch.manual_seed(123)\n",
    "batch_size, context_length, d_in = batch.shape\n",
    "d_out = 2\n",
    "mha = MultiHeadAttention(d_in, d_out, context_length, 0.0, num_heads = 2)\n",
    "context_vecs = mha(batch)\n",
    "print(context_vecs)\n",
    "print(f\"context_vecs shape: {context_vecs.shape}\")"
   ]
  },
  {
   "cell_type": "markdown",
   "id": "11885e4e-631d-431d-adaf-1c1fcc5fa116",
   "metadata": {},
   "source": [
    "### Implementing a GPT model from scratch to generate text (Chapter 4)"
   ]
  },
  {
   "cell_type": "markdown",
   "id": "7f52f84b-ae0b-4bc1-be25-94cebc7db9a4",
   "metadata": {},
   "source": [
    "#### 15. Implementing a dummy GPT model architecture class"
   ]
  },
  {
   "cell_type": "code",
   "execution_count": 156,
   "id": "8d83f428-66d5-4a68-a6bb-e810dfa71961",
   "metadata": {},
   "outputs": [],
   "source": [
    "#conifguration of small GPT 2 model\n",
    "GPT_CONFIG_124M = {\n",
    "   \"vocab_size\": 50257,  # Vocabulary size\n",
    "   \"context_length\": 1024,  # Context length\n",
    "   \"emb_dim\": 768,  # Embedding dimension\n",
    "   \"n_heads\": 12,  # Number of attention heads\n",
    "   \"n_layers\": 12,  # Number of layers\n",
    "   \"drop_rate\": 0.1,  # Dropout rate\n",
    "   \"qkv_bias\": False  # Query-Key-Value bias\n",
    "}"
   ]
  },
  {
   "cell_type": "code",
   "execution_count": 157,
   "id": "bd110fe0-f080-42a3-8949-bbf9b56fdf04",
   "metadata": {},
   "outputs": [],
   "source": [
    "import torch\n",
    "import torch.nn as nn"
   ]
  },
  {
   "cell_type": "code",
   "execution_count": 158,
   "id": "30475e6b-d1ff-44cf-a4b5-a6c7b6f73b04",
   "metadata": {},
   "outputs": [],
   "source": [
    "class DummyGPTModel(nn.Module):\n",
    "    def __init__(self, cfg):\n",
    "        super().__init__()\n",
    "        self.tok_emb = nn.Embedding(cfg[\"vocab_size\"], cfg[\"emb_dim\"])\n",
    "        self.pos_emb = nn.Embedding(cfg[\"context_length\"], cfg[\"emb_dim\"])\n",
    "        self.drop_emb = nn.Dropout(cfg[\"drop_rate\"])\n",
    "        self.trf_blocks = nn.Sequential(*[DummyTransformerBlock(cfg) for _ in range(cfg[\"n_layers\"])])\n",
    "        self.final_norm = DummyLayerNorm(cfg[\"emb_dim\"])\n",
    "        self.out_head = nn.Linear(cfg[\"emb_dim\"], cfg[\"vocab_size\"], bias = False)\n",
    "\n",
    "    def forward(self, in_idx):\n",
    "        batch_size, seq_len = in_idx.shape\n",
    "        tok_embeds = self.tok_emb(in_idx)\n",
    "        pos_embeds = self.pos_emb(torch.arange(seq_len, device = in_idx.device))\n",
    "        x = tok_embeds + pos_embeds\n",
    "        x = self.drop_emb(x)\n",
    "        x = self.trf_blocks(x)\n",
    "        x = self.final_norm(x)\n",
    "        logits = self.out_head(x)\n",
    "        return logits\n",
    "\n",
    "class DummyTransformerBlock(nn.Module):\n",
    "    def __init__(self, cfg):\n",
    "        super().__init__()\n",
    "\n",
    "    def forward(self, x):\n",
    "        return x\n",
    "\n",
    "class DummyLayerNorm(nn.Module):\n",
    "    def __init__(self, cfg):\n",
    "        super().__init__()\n",
    "\n",
    "    def forward(self, x):\n",
    "        return x"
   ]
  },
  {
   "cell_type": "markdown",
   "id": "ec3b355b-1a0f-4637-8b09-14e0a6f13103",
   "metadata": {},
   "source": [
    "- DummyGPTModel is a simplified version of GPT like model using pytorch neural network module.\n",
    "- It has token and positional embeddings, dropout, a series of tranformer blocks(DummyTransformerBlock), a final layer of normalization(DummyLayerNorm) and a linear output layer (out_head)"
   ]
  },
  {
   "cell_type": "code",
   "execution_count": 160,
   "id": "98750459-3073-42fa-b1e0-69ccda7e0e30",
   "metadata": {},
   "outputs": [
    {
     "name": "stdout",
     "output_type": "stream",
     "text": [
      "tensor([[6109, 3626, 6100,  345],\n",
      "        [6109, 1110, 6622,  257]])\n"
     ]
    }
   ],
   "source": [
    "#preparing input data and initializing GPT model\n",
    "import tiktoken\n",
    "\n",
    "tokenizer = tiktoken.get_encoding(\"gpt2\")\n",
    "batch = []\n",
    "txt1 = \"Every effort moves you\"\n",
    "txt2 = \"Every day holds a\"\n",
    "\n",
    "batch.append(torch.tensor(tokenizer.encode(txt1)))\n",
    "batch.append(torch.tensor(tokenizer.encode(txt2)))\n",
    "batch = torch.stack(batch, dim=0)\n",
    "print(batch)"
   ]
  },
  {
   "cell_type": "code",
   "execution_count": 161,
   "id": "a6a7853f-dec9-4c68-b8aa-6dc6c46a0754",
   "metadata": {},
   "outputs": [
    {
     "name": "stdout",
     "output_type": "stream",
     "text": [
      "Output shape: torch.Size([2, 4, 50257])\n",
      "tensor([[[-1.2034,  0.3201, -0.7130,  ..., -1.5548, -0.2390, -0.4667],\n",
      "         [-0.1192,  0.4539, -0.4432,  ...,  0.2392,  1.3469,  1.2430],\n",
      "         [ 0.5307,  1.6720, -0.4695,  ...,  1.1966,  0.0111,  0.5835],\n",
      "         [ 0.0139,  1.6754, -0.3388,  ...,  1.1586, -0.0435, -1.0400]],\n",
      "\n",
      "        [[-1.0908,  0.1798, -0.9484,  ..., -1.6047,  0.2439, -0.4530],\n",
      "         [-0.7860,  0.5581, -0.0610,  ...,  0.4835, -0.0077,  1.6621],\n",
      "         [ 0.3567,  1.2698, -0.6398,  ..., -0.0162, -0.1296,  0.3717],\n",
      "         [-0.2407, -0.7349, -0.5102,  ...,  2.0057, -0.3694,  0.1814]]],\n",
      "       grad_fn=<UnsafeViewBackward0>)\n"
     ]
    }
   ],
   "source": [
    "#initializing 124 million parameter DummyGPTModel instance and feed it the tokenized batch\n",
    "torch.manual_seed(123)\n",
    "model = DummyGPTModel(GPT_CONFIG_124M)\n",
    "logits = model(batch)\n",
    "print(f\"Output shape: {logits.shape}\")\n",
    "print(logits)"
   ]
  },
  {
   "cell_type": "markdown",
   "id": "05061467-9186-42b8-ac40-d36ec69eb6ba",
   "metadata": {},
   "source": [
    "- output tensor has two rows for 2 text samples with 4 tokens each being a 50257 dimensional vector - matches the size of the tokenizer vocabulary\n",
    "- Each of the 50267 dimensions refers to a unique token in the vocabulary which is later converted into token IDs to decode into words"
   ]
  },
  {
   "cell_type": "markdown",
   "id": "9d1d628b-cd7a-4719-a3c6-0288de8b9459",
   "metadata": {},
   "source": [
    "#### 16. Normalizing activations with layer normalization"
   ]
  },
  {
   "cell_type": "markdown",
   "id": "40d6f9cf-1bca-4323-a307-7edaa5a0d350",
   "metadata": {},
   "source": [
    "- training deep neural networks is challenging due to vanishing and exploding gradients as it prevents the learning process from finding the right set of parameters that reduce the loss function and hence we implement layer normalization to adjust the activations of the NN to have a unit variance (mean = 0, variance = 1)\n",
    "- this speeds up convergence to effecitve weights and ensures proper training."
   ]
  },
  {
   "cell_type": "code",
   "execution_count": 286,
   "id": "6f6a4338-2c06-4a1e-89bf-d13745f59677",
   "metadata": {},
   "outputs": [
    {
     "name": "stdout",
     "output_type": "stream",
     "text": [
      "tensor([[0.2260, 0.3470, 0.0000, 0.2216, 0.0000, 0.0000],\n",
      "        [0.2133, 0.2394, 0.0000, 0.5198, 0.3297, 0.0000]],\n",
      "       grad_fn=<ReluBackward0>)\n"
     ]
    }
   ],
   "source": [
    "#implementing neural network layers with 5 inputs and 6 output - applying to tow inputs\n",
    "torch.manual_seed(123)\n",
    "batch_example = torch.randn(2, 5) #A\n",
    "layer = nn.Sequential(nn.Linear(5, 6), nn.ReLU())\n",
    "out = layer(batch_example)\n",
    "print(out)"
   ]
  },
  {
   "cell_type": "markdown",
   "id": "9d3ba23c-d46c-4822-a3f8-86345c72e0ed",
   "metadata": {},
   "source": [
    "two rows with layer outputs from each input"
   ]
  },
  {
   "cell_type": "code",
   "execution_count": 289,
   "id": "041e199c-8e99-4195-89b5-41ac0360f2d7",
   "metadata": {},
   "outputs": [
    {
     "name": "stdout",
     "output_type": "stream",
     "text": [
      "Mean:\n",
      " tensor([[0.1324],\n",
      "        [0.2170]], grad_fn=<MeanBackward1>)\n",
      "Variance:\n",
      " tensor([[0.0231],\n",
      "        [0.0398]], grad_fn=<VarBackward0>)\n"
     ]
    }
   ],
   "source": [
    "#examining mean and variance for each input row\n",
    "mean = out.mean(dim = -1, keepdim = True)\n",
    "var = out.var(dim = -1, keepdim = True)\n",
    "print(\"Mean:\\n\", mean)\n",
    "print(\"Variance:\\n\", var)"
   ]
  },
  {
   "cell_type": "code",
   "execution_count": 291,
   "id": "312ded50-8320-4503-bb6b-e53a67379c5e",
   "metadata": {},
   "outputs": [
    {
     "name": "stdout",
     "output_type": "stream",
     "text": [
      "Normalized layer outputs:\n",
      " tensor([[ 0.6159,  1.4126, -0.8719,  0.5872, -0.8719, -0.8719],\n",
      "        [-0.0189,  0.1121, -1.0876,  1.5173,  0.5647, -1.0876]],\n",
      "       grad_fn=<DivBackward0>)\n",
      "Mean:\n",
      " tensor([[    -0.0000],\n",
      "        [     0.0000]], grad_fn=<MeanBackward1>)\n",
      "Variance:\n",
      " tensor([[1.0000],\n",
      "        [1.0000]], grad_fn=<VarBackward0>)\n",
      "\n",
      "\n",
      "printing outputs for better visbility by turning off scientific notation:\n",
      "\n",
      "Mean:\n",
      " tensor([[    -0.0000],\n",
      "        [     0.0000]], grad_fn=<MeanBackward1>)\n",
      "Variance:\n",
      " tensor([[1.0000],\n",
      "        [1.0000]], grad_fn=<VarBackward0>)\n"
     ]
    }
   ],
   "source": [
    "#applying layer normalization to layer outputs\n",
    "out_norm = (out - mean)/torch.sqrt(var)\n",
    "mean = out_norm.mean(dim = -1, keepdim = True)\n",
    "var = out_norm.var(dim = -1, keepdim = True)\n",
    "print(\"Normalized layer outputs:\\n\", out_norm)\n",
    "print(\"Mean:\\n\", mean)\n",
    "print(\"Variance:\\n\", var)\n",
    "\n",
    "print(\"\\n\\nprinting outputs for better visbility by turning off scientific notation:\\n\")\n",
    "torch.set_printoptions(sci_mode = False)\n",
    "print(\"Mean:\\n\", mean)\n",
    "print(\"Variance:\\n\", var)"
   ]
  },
  {
   "cell_type": "markdown",
   "id": "3dab74b8-7e0c-43ac-aa72-e72710b22ddc",
   "metadata": {},
   "source": [
    "the mean and variance of normalized layers are 0 & 1 respectively post apllying normalization layer"
   ]
  },
  {
   "cell_type": "code",
   "execution_count": 302,
   "id": "9df4a76a-d440-45e4-b93d-d0afe047c514",
   "metadata": {},
   "outputs": [],
   "source": [
    "#layer normalization class\n",
    "class LayerNorm(nn.Module):\n",
    "    def __init__(self, emb_dim):\n",
    "        super().__init__()\n",
    "        self.eps = 1e-5\n",
    "        self.scale = nn.Parameter(torch.ones(emb_dim))\n",
    "        self.shift = nn.Parameter(torch.zeros(emb_dim))\n",
    "\n",
    "    def forward(self, x):\n",
    "        mean = x.mean(dim = -1, keepdim = True)\n",
    "        var = x.var(dim = -1, keepdim = True, unbiased = False)\n",
    "        norm_x = (x - mean)/torch.sqrt(var + self.eps) #eps prevents division by 0 during normalization\n",
    "        return self.scale * norm_x + self.shift"
   ]
  },
  {
   "cell_type": "code",
   "execution_count": 306,
   "id": "c15a43a0-77e4-44d9-b3e5-eb1d10c1e6b6",
   "metadata": {},
   "outputs": [
    {
     "name": "stdout",
     "output_type": "stream",
     "text": [
      "Mean:\n",
      " tensor([[    -0.0000],\n",
      "        [     0.0000]], grad_fn=<MeanBackward1>)\n",
      "Variance:\n",
      " tensor([[1.0000],\n",
      "        [1.0000]], grad_fn=<VarBackward0>)\n"
     ]
    }
   ],
   "source": [
    "#applying layer norm to batch input\n",
    "ln = LayerNorm(emb_dim = 5)\n",
    "out_ln = ln(batch_example)\n",
    "mean = out_ln.mean(dim = -1, keepdim = True)\n",
    "var = out_ln.var(dim = -1, unbiased = False, keepdim = True)\n",
    "print(\"Mean:\\n\", mean)\n",
    "print(\"Variance:\\n\", var)"
   ]
  },
  {
   "cell_type": "markdown",
   "id": "9ed7a7a8-38db-4d3d-b8dc-3b031b80de6e",
   "metadata": {},
   "source": [
    "#### 17. Implementing feed forward neural networks with GELU activations"
   ]
  },
  {
   "cell_type": "code",
   "execution_count": 313,
   "id": "5c6166aa-6b2c-4800-953c-81c3ee47c95e",
   "metadata": {},
   "outputs": [],
   "source": [
    "class GELU(nn.Module):\n",
    "    def __init__(self):\n",
    "        super().__init__()\n",
    "\n",
    "    def forward(self, x):\n",
    "        return 0.5 * x * (1 + torch.tanh(torch.sqrt(torch.tensor(2.0 / torch.pi))* (x + 0.044715 * torch.pow(x, 3)))) "
   ]
  },
  {
   "cell_type": "code",
   "execution_count": 325,
   "id": "b396950a-6f22-4104-aad0-7239eb83669e",
   "metadata": {},
   "outputs": [
    {
     "data": {
      "image/png": "[encoded data removed]",
      "text/plain": [
       "<Figure size 800x300 with 2 Axes>"
      ]
     },
     "metadata": {},
     "output_type": "display_data"
    }
   ],
   "source": [
    "import matplotlib.pyplot as plt\n",
    "import torch\n",
    "import torch.nn as nn\n",
    "\n",
    "gelu, relu = nn.GELU(), nn.ReLU()\n",
    "x = torch.linspace(-3, 3, 100)  # A\n",
    "y_gelu, y_relu = gelu(x), relu(x)\n",
    "\n",
    "plt.figure(figsize=(8,3))\n",
    "for i, (y, label) in enumerate(zip([y_gelu, y_relu], [\"GELU\", \"ReLU\"])):\n",
    "    plt.subplot(1, 2, i+1)\n",
    "    plt.plot(x, y)\n",
    "    plt.title(f\"{label} activation function\")\n",
    "    plt.xlabel(\"x\")\n",
    "    plt.ylabel(f\"{label}(x)\")\n",
    "    plt.grid(True)\n",
    "plt.tight_layout()\n",
    "plt.show()"
   ]
  },
  {
   "cell_type": "markdown",
   "id": "0efca295-cfd6-40c3-9e9d-b3e9db5824f5",
   "metadata": {},
   "source": [
    "GELU has no-zero gradient for negative values as compared to ReLU (which is 0 for negative values which sometimes make optimizations harder has is doen't allow nuanced outputs). GELU on the other hand allows even the neurons that have recioeved negative input to contribute to learning process"
   ]
  },
  {
   "cell_type": "code",
   "execution_count": 338,
   "id": "713b2221-cfbb-4361-95c9-5dc811fb34dd",
   "metadata": {},
   "outputs": [],
   "source": [
    "#feed forward class - consisting of two linear layers\n",
    "class FeedForward(nn.Module):\n",
    "    def __init__(self, cfg):\n",
    "        super().__init__()\n",
    "        self.layers = nn.Sequential(\n",
    "            nn.Linear(cfg[\"emb_dim\"], 4 * cfg[\"emb_dim\"]), #Linear transformation --> increases embedding dimension by a factor of 4\n",
    "            GELU(), #non-linear GELU activation\n",
    "            nn.Linear(4 * cfg[\"emb_dim\"], cfg[\"emb_dim\"]) #Linear transformation --> decreases embedding dimension by a factor of 4\n",
    "                                    ) \n",
    "\n",
    "    def forward(self, x):\n",
    "        return self.layers(x)"
   ]
  },
  {
   "cell_type": "code",
   "execution_count": 334,
   "id": "b515925f-fa1a-4f53-88a3-59a4ac503bc2",
   "metadata": {},
   "outputs": [
    {
     "name": "stdout",
     "output_type": "stream",
     "text": [
      "torch.Size([2, 3, 768])\n"
     ]
    }
   ],
   "source": [
    "#initializing FeedForward class with batch size of 2, token 3 and embedding size 768\n",
    "ffn = FeedForward(GPT_CONFIG_124M)\n",
    "x = torch.rand(2, 3, 768) #A\n",
    "out = ffn(x)\n",
    "print(out.shape)"
   ]
  },
  {
   "cell_type": "markdown",
   "id": "1b0bad95-37bf-48ad-bc10-497cb004e235",
   "metadata": {},
   "source": [
    "#### 18. Adding shortcut connections (skip connections)"
   ]
  },
  {
   "cell_type": "code",
   "execution_count": 345,
   "id": "763d212c-04f3-4beb-94c2-baa2551da959",
   "metadata": {},
   "outputs": [],
   "source": [
    "#illustrating shortcut connections - with 5 NN layers\n",
    "class ExampleDeepNeuralNetwork(nn.Module):\n",
    "    def __init__(self, layer_sizes, use_shortcut):\n",
    "        super().__init__()\n",
    "        self.use_shortcut = use_shortcut\n",
    "        self.layers = nn.ModuleList([\n",
    "            nn.Sequential(\n",
    "            nn.Linear(layer_sizes[0], layer_sizes[1]), \n",
    "            GELU()),\n",
    "            nn.Sequential(\n",
    "            nn.Linear(layer_sizes[1], layer_sizes[2]), \n",
    "            GELU()),\n",
    "            nn.Sequential(\n",
    "            nn.Linear(layer_sizes[2], layer_sizes[3]), \n",
    "            GELU()),\n",
    "            nn.Sequential(\n",
    "            nn.Linear(layer_sizes[3], layer_sizes[4]), \n",
    "            GELU()),\n",
    "            nn.Sequential(\n",
    "            nn.Linear(layer_sizes[4], layer_sizes[5]), \n",
    "            GELU())\n",
    "        ])\n",
    "\n",
    "    def forward(self, x):\n",
    "        for layer in self.layers:\n",
    "            #compute the output of the current layer\n",
    "            layer_output - layer(x)\n",
    "            #check if shortcut can be applied\n",
    "            if self.use_shortcut and x.shape == layer_output.shape:\n",
    "                x = x + layer_output\n",
    "\n",
    "            else:\n",
    "                x = layer_output\n",
    "\n",
    "        return x"
   ]
  },
  {
   "cell_type": "code",
   "execution_count": 347,
   "id": "c40465eb-1c51-4bdc-a836-f990b67be65a",
   "metadata": {},
   "outputs": [],
   "source": [
    "#initializing neural network without shortcut connections\n",
    "layer_sizes = [3, 3, 3, 3, 3, 1]\n",
    "sample_input = torch.tensor([[1., 0., -1.]])\n",
    "torch.manual_seed(123) #specifying random seed for initial weight\n",
    "model_wihtout_shortcut = ExampleDeepNeuralNetwork(layer_sizes, use_shortcut = False)"
   ]
  }
 ],
 "metadata": {
  "kernelspec": {
   "display_name": "Python 3 (ipykernel)",
   "language": "python",
   "name": "python3"
  },
  "language_info": {
   "codemirror_mode": {
    "name": "ipython",
    "version": 3
   },
   "file_extension": ".py",
   "mimetype": "text/x-python",
   "name": "python",
   "nbconvert_exporter": "python",
   "pygments_lexer": "ipython3",
   "version": "3.12.4"
  }
 },
 "nbformat": 4,
 "nbformat_minor": 5
}
