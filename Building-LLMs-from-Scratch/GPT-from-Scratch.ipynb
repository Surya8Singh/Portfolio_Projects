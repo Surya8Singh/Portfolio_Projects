{
 "cells": [
  {
   "cell_type": "code",
   "execution_count": 24,
   "id": "4b577c92-3a55-45f3-9169-1ee4a43f7985",
   "metadata": {},
   "outputs": [],
   "source": [
    "import pandas as pd"
   ]
  },
  {
   "cell_type": "code",
   "execution_count": 25,
   "id": "e7b974c1-762b-4c07-a4db-c68bc1dabd14",
   "metadata": {},
   "outputs": [
    {
     "name": "stdout",
     "output_type": "stream",
     "text": [
      "Total number of character: 20398\n",
      "﻿I HAD always thought Jack Gisburn rather a cheap genius--though a good fellow enough--so it was no\n"
     ]
    }
   ],
   "source": [
    "#Reading in a short story as text sample into Python\n",
    "with open(\"the-verdict.txt\", \"r\", encoding = \"utf-8\") as f:\n",
    "          raw_text = f.read()\n",
    "print(\"Total number of character:\", len(raw_text))\n",
    "print(raw_text[:99])"
   ]
  },
  {
   "cell_type": "markdown",
   "id": "5d37235f-e542-460a-982a-014c0eb36870",
   "metadata": {},
   "source": [
    "### Preprocessing Steps (Chapter 2)"
   ]
  },
  {
   "cell_type": "markdown",
   "id": "fca6197a-3450-476d-a75e-50e66984b1e4",
   "metadata": {},
   "source": [
    "#### 1. Tokenizing Text"
   ]
  },
  {
   "cell_type": "code",
   "execution_count": 27,
   "id": "c490f3ea-71ec-43ef-b2f7-2f6844ab5010",
   "metadata": {},
   "outputs": [
    {
     "name": "stdout",
     "output_type": "stream",
     "text": [
      "['Hello,', ' ', 'world.', ' ', 'This,', ' ', 'is', ' ', 'a', ' ', 'test.']\n"
     ]
    }
   ],
   "source": [
    "import re\n",
    "text = \"Hello, world. This, is a test.\"\n",
    "result = re.split(r'(\\s)', text)\n",
    "print(result)"
   ]
  },
  {
   "cell_type": "code",
   "execution_count": 28,
   "id": "0fd779b8-4919-4f5f-a6cc-115d8a0edff4",
   "metadata": {},
   "outputs": [
    {
     "name": "stdout",
     "output_type": "stream",
     "text": [
      "['Hello', ',', '', ' ', 'world', '.', '', ' ', 'This', ',', '', ' ', 'is', ' ', 'a', ' ', 'test', '.', '']\n"
     ]
    }
   ],
   "source": [
    "#separting punction and spaces from the text\n",
    "result = re.split(r'([,.]|\\s)', text)\n",
    "print(result)"
   ]
  },
  {
   "cell_type": "code",
   "execution_count": 29,
   "id": "a995544a-edaf-41ce-96fa-35a08f74e78d",
   "metadata": {},
   "outputs": [
    {
     "name": "stdout",
     "output_type": "stream",
     "text": [
      "['Hello', ',', 'world', '.', 'This', ',', 'is', 'a', 'test', '.']\n"
     ]
    }
   ],
   "source": [
    "#remvoing white spaces\n",
    "result = [item for item in result if item.strip()]\n",
    "print(result)"
   ]
  },
  {
   "cell_type": "code",
   "execution_count": 30,
   "id": "669d64dd-2251-47f6-9c64-7acda8a2b33c",
   "metadata": {},
   "outputs": [
    {
     "name": "stdout",
     "output_type": "stream",
     "text": [
      "Tokenized text:  ['Hello', ',', 'world', '.', 'Is', 'this', '--', 'a', 'test', '.']\n"
     ]
    }
   ],
   "source": [
    "#extending the tokenizer to handle wider range of punctuations\n",
    "text = \"Hello, world. Is this-- a test.\"\n",
    "result = re.split(r'([,.:;?_!\"()\\']|--|\\s)', text)\n",
    "result = [item.strip() for item in result if item.strip()]\n",
    "print(\"Tokenized text: \",result)"
   ]
  },
  {
   "cell_type": "code",
   "execution_count": 31,
   "id": "52690889-1543-4732-bd56-f97d409d91a9",
   "metadata": {},
   "outputs": [
    {
     "name": "stdout",
     "output_type": "stream",
     "text": [
      "length of the complete tokenized text from Edith Wharton story: 4690\n"
     ]
    }
   ],
   "source": [
    "#applying this tokenizer to the full Edith Warton's story\n",
    "preprocessed = re.split(r'([,.:;?_!\"()\\']|--|\\s)', raw_text)\n",
    "preprocessed = [item.strip() for item in preprocessed if item.strip()]\n",
    "print(f\"length of the complete tokenized text from Edith Wharton story: {len(preprocessed)}\")"
   ]
  },
  {
   "cell_type": "code",
   "execution_count": 32,
   "id": "5e98ed10-3aa6-4ce4-b66f-3c7c03abba0b",
   "metadata": {},
   "outputs": [
    {
     "name": "stdout",
     "output_type": "stream",
     "text": [
      "First 30 tokens: ['\\ufeffI', 'HAD', 'always', 'thought', 'Jack', 'Gisburn', 'rather', 'a', 'cheap', 'genius', '--', 'though', 'a', 'good', 'fellow', 'enough', '--', 'so', 'it', 'was', 'no', 'great', 'surprise', 'to', 'me', 'to', 'hear', 'that', ',', 'in']\n"
     ]
    }
   ],
   "source": [
    "#printing first 30 tokens\n",
    "print(f\"First 30 tokens: {preprocessed[:30]}\")"
   ]
  },
  {
   "cell_type": "markdown",
   "id": "d2729af4-db08-42cc-96da-34851831de5e",
   "metadata": {},
   "source": [
    "#### 2. Converting token into token IDs"
   ]
  },
  {
   "cell_type": "markdown",
   "id": "ab8fbec7-c786-45a4-be1d-96ee2f7500b3",
   "metadata": {},
   "source": [
    "create a list of all unique tokens and sort them alphabetically to determine the vocabulary"
   ]
  },
  {
   "cell_type": "code",
   "execution_count": 35,
   "id": "a4664186-5ff4-426e-940c-d5feb6aba4dd",
   "metadata": {},
   "outputs": [
    {
     "name": "stdout",
     "output_type": "stream",
     "text": [
      "Vocabulary Size: 1131\n"
     ]
    }
   ],
   "source": [
    "all_words = sorted(list(set(preprocessed)))\n",
    "vocab_size = len(all_words)\n",
    "print(f\"Vocabulary Size: {vocab_size}\")"
   ]
  },
  {
   "cell_type": "code",
   "execution_count": 36,
   "id": "5f725dd2-aa85-43c6-8110-32485f318f1c",
   "metadata": {
    "scrolled": true
   },
   "outputs": [
    {
     "name": "stdout",
     "output_type": "stream",
     "text": [
      "('!', 0)\n",
      "('\"', 1)\n",
      "(\"'\", 2)\n",
      "('(', 3)\n",
      "(')', 4)\n",
      "(',', 5)\n",
      "('--', 6)\n",
      "('.', 7)\n",
      "(':', 8)\n",
      "(';', 9)\n",
      "('?', 10)\n",
      "('A', 11)\n",
      "('Ah', 12)\n",
      "('Among', 13)\n",
      "('And', 14)\n",
      "('Are', 15)\n",
      "('Arrt', 16)\n",
      "('As', 17)\n",
      "('At', 18)\n",
      "('Be', 19)\n",
      "('Begin', 20)\n",
      "('Burlington', 21)\n",
      "('But', 22)\n",
      "('By', 23)\n",
      "('Carlo', 24)\n",
      "('Chicago', 25)\n",
      "('Claude', 26)\n",
      "('Come', 27)\n",
      "('Croft', 28)\n",
      "('Destroyed', 29)\n",
      "('Devonshire', 30)\n",
      "('Don', 31)\n",
      "('Dubarry', 32)\n",
      "('Emperors', 33)\n",
      "('Florence', 34)\n",
      "('For', 35)\n",
      "('Gallery', 36)\n",
      "('Gideon', 37)\n",
      "('Gisburn', 38)\n",
      "('Gisburns', 39)\n",
      "('Grafton', 40)\n",
      "('Greek', 41)\n",
      "('Grindle', 42)\n",
      "('Grindles', 43)\n",
      "('HAD', 44)\n",
      "('Had', 45)\n",
      "('Hang', 46)\n",
      "('Has', 47)\n",
      "('He', 48)\n",
      "('Her', 49)\n",
      "('Hermia', 50)\n",
      "('His', 51)\n"
     ]
    }
   ],
   "source": [
    "#creating a vocabulary\n",
    "vocab = {token: integer for integer, token in enumerate(all_words)}\n",
    "for i, item in enumerate(vocab.items()):\n",
    "    print(item)\n",
    "    if i > 50:\n",
    "        break"
   ]
  },
  {
   "cell_type": "code",
   "execution_count": 37,
   "id": "e9ac1c72-2497-4e7c-bad8-f6e74e43a30e",
   "metadata": {},
   "outputs": [],
   "source": [
    "#implementing a tokenizer class to tokenize text into tokens, encode tokens to integers and decode integers to tokens\n",
    "\n",
    "class SimpleTokenzierV1:\n",
    "    def __init__(self, vocab):\n",
    "        self.str_to_int = vocab #A\n",
    "        self.int_to_str = {i:s for s,i in vocab.items()} #B\n",
    "\n",
    "    def encode(self, text): #C\n",
    "        preprocessed = re.split(r'([,.:;?_!\"()\\']|--|\\s)', text)\n",
    "        preprocessed = [item.strip() for item in preprocessed if item.strip()]\n",
    "        ids = [self.str_to_int[s] for s in preprocessed]\n",
    "        return ids\n",
    "\n",
    "    def decode(self, ids): #D\n",
    "        text = \" \".join([self.int_to_str[i] for i in ids])\n",
    "        text = re.sub(r'\\s+([,.?!\"()\\'])', r'\\1', text) #E\n",
    "        return text"
   ]
  },
  {
   "cell_type": "code",
   "execution_count": 38,
   "id": "7efebd56-ea72-4f69-99b4-d070fea10075",
   "metadata": {},
   "outputs": [],
   "source": [
    "#instantiating tokenizer object to test the SimpleTokenzierV1 class\n",
    "tokenizer = SimpleTokenzierV1(vocab)"
   ]
  },
  {
   "cell_type": "code",
   "execution_count": 39,
   "id": "acfbe03a-2dce-45e2-80ed-8c2c97a86623",
   "metadata": {},
   "outputs": [
    {
     "name": "stdout",
     "output_type": "stream",
     "text": [
      "Token ids for sample text from Edith Warton's story: [1130, 44, 149, 1003, 57, 38, 818, 115, 256, 486, 6, 1002, 115, 500, 435, 392, 6, 908, 585, 1077, 709]\n"
     ]
    }
   ],
   "source": [
    "text = raw_text[:99]\n",
    "ids = tokenizer.encode(text)\n",
    "print(f\"Token ids for sample text from Edith Warton's story: {ids}\")"
   ]
  },
  {
   "cell_type": "code",
   "execution_count": 40,
   "id": "0669898e-04dc-43c2-ad50-4fd8ab344a47",
   "metadata": {},
   "outputs": [
    {
     "name": "stdout",
     "output_type": "stream",
     "text": [
      "text from decoding token ids using SimpleTokenzierV1 class: \n",
      "﻿I HAD always thought Jack Gisburn rather a cheap genius -- though a good fellow enough -- so it was no\n"
     ]
    }
   ],
   "source": [
    "#testing decoder on the token ids above\n",
    "print(f\"text from decoding token ids using SimpleTokenzierV1 class: \\n{tokenizer.decode(ids)}\")"
   ]
  },
  {
   "cell_type": "code",
   "execution_count": 41,
   "id": "6ee95db7-3368-4bb5-b76e-665cf1c192b4",
   "metadata": {},
   "outputs": [
    {
     "ename": "KeyError",
     "evalue": "'Hello'",
     "output_type": "error",
     "traceback": [
      "\u001b[0;31m---------------------------------------------------------------------------\u001b[0m",
      "\u001b[0;31mKeyError\u001b[0m                                  Traceback (most recent call last)",
      "Cell \u001b[0;32mIn[41], line 3\u001b[0m\n\u001b[1;32m      1\u001b[0m \u001b[38;5;66;03m#running the tokenizer on a sample text which is not a part of the text used to create the vocab\u001b[39;00m\n\u001b[1;32m      2\u001b[0m text \u001b[38;5;241m=\u001b[39m \u001b[38;5;124m\"\u001b[39m\u001b[38;5;124mHello, do you like tea?\u001b[39m\u001b[38;5;124m\"\u001b[39m\n\u001b[0;32m----> 3\u001b[0m tokenizer\u001b[38;5;241m.\u001b[39mencode(text)\n",
      "Cell \u001b[0;32mIn[37], line 11\u001b[0m, in \u001b[0;36mSimpleTokenzierV1.encode\u001b[0;34m(self, text)\u001b[0m\n\u001b[1;32m      9\u001b[0m preprocessed \u001b[38;5;241m=\u001b[39m re\u001b[38;5;241m.\u001b[39msplit(\u001b[38;5;124mr\u001b[39m\u001b[38;5;124m'\u001b[39m\u001b[38;5;124m([,.:;?_!\u001b[39m\u001b[38;5;124m\"\u001b[39m\u001b[38;5;124m()\u001b[39m\u001b[38;5;130;01m\\'\u001b[39;00m\u001b[38;5;124m]|--|\u001b[39m\u001b[38;5;124m\\\u001b[39m\u001b[38;5;124ms)\u001b[39m\u001b[38;5;124m'\u001b[39m, text)\n\u001b[1;32m     10\u001b[0m preprocessed \u001b[38;5;241m=\u001b[39m [item\u001b[38;5;241m.\u001b[39mstrip() \u001b[38;5;28;01mfor\u001b[39;00m item \u001b[38;5;129;01min\u001b[39;00m preprocessed \u001b[38;5;28;01mif\u001b[39;00m item\u001b[38;5;241m.\u001b[39mstrip()]\n\u001b[0;32m---> 11\u001b[0m ids \u001b[38;5;241m=\u001b[39m [\u001b[38;5;28mself\u001b[39m\u001b[38;5;241m.\u001b[39mstr_to_int[s] \u001b[38;5;28;01mfor\u001b[39;00m s \u001b[38;5;129;01min\u001b[39;00m preprocessed]\n\u001b[1;32m     12\u001b[0m \u001b[38;5;28;01mreturn\u001b[39;00m ids\n",
      "\u001b[0;31mKeyError\u001b[0m: 'Hello'"
     ]
    }
   ],
   "source": [
    "#running the tokenizer on a sample text which is not a part of the text used to create the vocab\n",
    "text = \"Hello, do you like tea?\"\n",
    "tokenizer.encode(text)"
   ]
  },
  {
   "cell_type": "markdown",
   "id": "bd2c9439-8d76-416b-903d-f72b8bf27588",
   "metadata": {},
   "source": [
    "here, the key error suggests that Hello is not a part of the vocabulary and hence we need to use large and diverse text in order to extend the vocabulary when creating a LARGE language models"
   ]
  },
  {
   "cell_type": "markdown",
   "id": "fe8b41fc-4ba2-4fb0-99ce-8eec285b0daf",
   "metadata": {},
   "source": [
    "#### 3. Adding special context tokens"
   ]
  },
  {
   "cell_type": "markdown",
   "id": "ff54ec79-f0bf-42d1-85b4-8c2cdd90a658",
   "metadata": {},
   "source": [
    "modifying SimpleTokenzierV1 to support new tokens for unknown words and document boundaries"
   ]
  },
  {
   "cell_type": "code",
   "execution_count": 42,
   "id": "05e2ebda-cfa9-4de8-9e53-6542f783e3cc",
   "metadata": {},
   "outputs": [
    {
     "name": "stdout",
     "output_type": "stream",
     "text": [
      "length of the vocabulary after extending the vocab with unknown words and end of text markers: 1133\n"
     ]
    }
   ],
   "source": [
    "'''adding tokens:\n",
    "1. <unk> - to represent unknown or new words that are not part of the vocabulary\n",
    "2. <|endoftext|> -  marker to separate two different text source from each other\n",
    "'''\n",
    "all_tokens =  sorted(list(set(preprocessed)))\n",
    "all_tokens.extend([\"<|endoftext|>\", \"<unk>\"])\n",
    "vocab = {token:integer for integer, token in enumerate(all_tokens)}\n",
    "\n",
    "print(f\"length of the vocabulary after extending the vocab with unknown words and end of text markers: {len(vocab.items())}\")"
   ]
  },
  {
   "cell_type": "code",
   "execution_count": 44,
   "id": "6d66b658-0a72-4ceb-9713-60dca1668b4f",
   "metadata": {},
   "outputs": [
    {
     "name": "stdout",
     "output_type": "stream",
     "text": [
      "('your', 1128)\n",
      "('yourself', 1129)\n",
      "('\\ufeffI', 1130)\n",
      "('<|endoftext|>', 1131)\n",
      "('<unk>', 1132)\n"
     ]
    }
   ],
   "source": [
    "#printing a sample from the end of the extended vocab\n",
    "for i, item in enumerate(list(vocab.items())[-5:]):\n",
    "    print(item)"
   ]
  },
  {
   "cell_type": "code",
   "execution_count": 46,
   "id": "60289004-5a80-4ed0-8d29-606cc79a57c2",
   "metadata": {},
   "outputs": [],
   "source": [
    "#SimpleTokenzierV2 replaces unknown words with the token \"<unk>\"\n",
    "class SimpleTokenzierV2:\n",
    "    def __init__(self, vocab):\n",
    "        self.str_to_int = vocab\n",
    "        self.int_to_str = {i:s for s,i in vocab.items()}\n",
    "\n",
    "    def encode(self, text):\n",
    "        preprocessed = re.split(r'([,.:;?_!\"()\\']|--|\\s)', text)\n",
    "        preprocessed = [item.strip() for item in preprocessed if item.strip()]\n",
    "        preprocessed = [item if item in self.str_to_int\n",
    "                       else \"<unk>\" for item in preprocessed] #A\n",
    "        ids = [self.str_to_int[s] for s in preprocessed]\n",
    "        return ids\n",
    "\n",
    "    def decode(self, ids):\n",
    "        text = \" \".join([self.int_to_str[i] for i in ids])\n",
    "        text = re.sub(r'\\s+([,.?!\"()\\'])', r'\\1', text) #B\n",
    "        return text"
   ]
  },
  {
   "cell_type": "code",
   "execution_count": 48,
   "id": "64600496-2aa1-48d9-97b2-728645d548fb",
   "metadata": {},
   "outputs": [
    {
     "name": "stdout",
     "output_type": "stream",
     "text": [
      "concatenated text with endoftext marker: \n",
      "Hello, do you like tea? <|endoftext|> In the sunlit terraces of the palace.\n"
     ]
    }
   ],
   "source": [
    "#concatenating two unrelated texts\n",
    "text1 = \"Hello, do you like tea?\"\n",
    "text2 = \"In the sunlit terraces of the palace.\"\n",
    "\n",
    "text = \" <|endoftext|> \".join((text1, text2))\n",
    "print(f\"concatenated text with endoftext marker: \\n{text}\")"
   ]
  },
  {
   "cell_type": "code",
   "execution_count": 50,
   "id": "d985105e-7f40-48ac-b4dd-1c13af60c566",
   "metadata": {},
   "outputs": [
    {
     "name": "stdout",
     "output_type": "stream",
     "text": [
      "[1132, 5, 355, 1126, 628, 975, 10, 1131, 55, 988, 956, 984, 722, 988, 1132, 7]\n"
     ]
    }
   ],
   "source": [
    "#testing the SimpleTokenzierV2 on a text that is concatenation of two unrelated texts\n",
    "tokenizer = SimpleTokenzierV2(vocab)\n",
    "print(tokenizer.encode(text))"
   ]
  },
  {
   "cell_type": "markdown",
   "id": "1b3edcb7-9f9c-4e50-9a5d-44c39fe8e22f",
   "metadata": {},
   "source": [
    "we can see that the list of token IDs contains 1131 for the <|endoftext|> separator token as well as two 1132 tokens, which are used for unknown words."
   ]
  },
  {
   "cell_type": "code",
   "execution_count": 53,
   "id": "992f963f-b798-4355-ad60-62f60a9f5934",
   "metadata": {},
   "outputs": [
    {
     "name": "stdout",
     "output_type": "stream",
     "text": [
      "<unk>, do you like tea? <|endoftext|> In the sunlit terraces of the <unk>.\n"
     ]
    }
   ],
   "source": [
    "#testing detokenizer for SimpleTokenzierV2\n",
    "print(tokenizer.decode(tokenizer.encode(text)))"
   ]
  },
  {
   "cell_type": "markdown",
   "id": "30da483c-0e6b-4b32-903b-d464161a2ae3",
   "metadata": {},
   "source": [
    "#### 4. BPE: Byte pair encoding"
   ]
  },
  {
   "cell_type": "markdown",
   "id": "fe4ce893-8eae-46ef-9641-b9cb6c426d34",
   "metadata": {},
   "source": [
    "unlike the simple tokenizer implemented above, GPT uses byte pair encoding tokenizer which does not replace unknown words with \"unk\" token but breaks down the word into subword units"
   ]
  },
  {
   "cell_type": "code",
   "execution_count": 63,
   "id": "8e303342-649a-47ea-a0a1-3286b7992c20",
   "metadata": {},
   "outputs": [
    {
     "name": "stdout",
     "output_type": "stream",
     "text": [
      "Requirement already satisfied: tiktoken in /opt/anaconda3/lib/python3.12/site-packages (0.9.0)\n",
      "Requirement already satisfied: regex>=2022.1.18 in /opt/anaconda3/lib/python3.12/site-packages (from tiktoken) (2023.10.3)\n",
      "Requirement already satisfied: requests>=2.26.0 in /opt/anaconda3/lib/python3.12/site-packages (from tiktoken) (2.32.2)\n",
      "Requirement already satisfied: charset-normalizer<4,>=2 in /opt/anaconda3/lib/python3.12/site-packages (from requests>=2.26.0->tiktoken) (2.0.4)\n",
      "Requirement already satisfied: idna<4,>=2.5 in /opt/anaconda3/lib/python3.12/site-packages (from requests>=2.26.0->tiktoken) (3.7)\n",
      "Requirement already satisfied: urllib3<3,>=1.21.1 in /opt/anaconda3/lib/python3.12/site-packages (from requests>=2.26.0->tiktoken) (2.2.2)\n",
      "Requirement already satisfied: certifi>=2017.4.17 in /opt/anaconda3/lib/python3.12/site-packages (from requests>=2.26.0->tiktoken) (2024.12.14)\n",
      "Note: you may need to restart the kernel to use updated packages.\n"
     ]
    }
   ],
   "source": [
    "pip install tiktoken"
   ]
  },
  {
   "cell_type": "code",
   "execution_count": 67,
   "id": "7b7146f5-becf-4357-a47e-af14281b27ff",
   "metadata": {},
   "outputs": [
    {
     "name": "stdout",
     "output_type": "stream",
     "text": [
      "tiktoken version: 0.9.0\n"
     ]
    }
   ],
   "source": [
    "from importlib.metadata import version\n",
    "import tiktoken\n",
    "print(\"tiktoken version:\", version(\"tiktoken\"))"
   ]
  },
  {
   "cell_type": "code",
   "execution_count": 71,
   "id": "3c35099b-4e45-48f5-bca3-45ef9fb86421",
   "metadata": {},
   "outputs": [],
   "source": [
    "tokenizer = tiktoken.get_encoding(\"gpt2\") #similar to SimpleTokenzierV2"
   ]
  },
  {
   "cell_type": "code",
   "execution_count": 75,
   "id": "76efb70b-df40-4aef-b4fc-bfb57e93e189",
   "metadata": {},
   "outputs": [
    {
     "name": "stdout",
     "output_type": "stream",
     "text": [
      "[15496, 11, 466, 345, 588, 8887, 30, 220, 50256, 554, 262, 4252, 18250, 1059, 430]\n"
     ]
    }
   ],
   "source": [
    "#encoding using BPE\n",
    "text = \"Hello, do you like tea? <|endoftext|> In the sunlit terra\"\n",
    "integers = tokenizer.encode(text, allowed_special = {\"<|endoftext|>\"})\n",
    "print(integers)"
   ]
  },
  {
   "cell_type": "markdown",
   "id": "43721223-a769-4c74-820f-b398cb0cf29d",
   "metadata": {},
   "source": [
    "here, the tokenzier handles unknown words by breaking them down into subword units or even individual characters provinding them the largest token id"
   ]
  },
  {
   "cell_type": "code",
   "execution_count": 77,
   "id": "57408055-6641-451d-bbd0-a4e15e27f5e7",
   "metadata": {},
   "outputs": [
    {
     "name": "stdout",
     "output_type": "stream",
     "text": [
      "Hello, do you like tea? <|endoftext|> In the sunlit terra\n"
     ]
    }
   ],
   "source": [
    "#decoding using BPE\n",
    "strings = tokenizer.decode(integers)\n",
    "print(strings)"
   ]
  },
  {
   "cell_type": "code",
   "execution_count": 84,
   "id": "7896b5c0-3058-4203-91fa-e62af54c2c1f",
   "metadata": {},
   "outputs": [
    {
     "name": "stdout",
     "output_type": "stream",
     "text": [
      "token id of unknown words broken down into subword units: [33901, 86, 343, 86, 220, 959]\n",
      "text of unknown words from token ids: Akwirw ier\n"
     ]
    }
   ],
   "source": [
    "text = \"Akwirw ier\"\n",
    "integers = tokenizer.encode(text)\n",
    "strings = tokenizer.decode(integers)\n",
    "print(f\"token id of unknown words broken down into subword units: {integers}\")\n",
    "print(f\"text of unknown words from token ids: {strings}\")"
   ]
  },
  {
   "cell_type": "markdown",
   "id": "5ded9f1a-f485-4708-89cf-ce099e3a2cd2",
   "metadata": {},
   "source": [
    "BPE is able to handle unknown words by building a vocab by iteratively merging frequent characters into subwords and frequest subwords into words"
   ]
  },
  {
   "cell_type": "markdown",
   "id": "f47ca912-8320-4311-a680-30a160191f5a",
   "metadata": {},
   "source": [
    "#### 5. Data Sampling with a sliding window"
   ]
  },
  {
   "cell_type": "code",
   "execution_count": 89,
   "id": "1546ad16-ada4-4bdb-a902-815c8daf2e35",
   "metadata": {},
   "outputs": [
    {
     "name": "stdout",
     "output_type": "stream",
     "text": [
      "length of tokenized Edith Warton Story 5066\n"
     ]
    }
   ],
   "source": [
    "#tokenizing the entire Edith Warton story usinf the BPE tokenizer\n",
    "with open(\"the-verdict.txt\", \"r\", encoding = \"utf-8\") as f:\n",
    "    raw_text = f.read()\n",
    "\n",
    "enc_text = tokenizer.encode(raw_text)\n",
    "print(f\"length of tokenized Edith Warton Story {len(enc_text)}\")"
   ]
  },
  {
   "cell_type": "code",
   "execution_count": 91,
   "id": "4406b915-85c7-4da9-9903-99c3fd6c3f64",
   "metadata": {},
   "outputs": [],
   "source": [
    "#taking a sample of first 50 tokens\n",
    "enc_sample = enc_text[50:]"
   ]
  },
  {
   "cell_type": "code",
   "execution_count": 99,
   "id": "9e2a4da6-50ec-4a00-8e4f-d3b7e4f54c64",
   "metadata": {},
   "outputs": [
    {
     "name": "stdout",
     "output_type": "stream",
     "text": [
      "x: [5527, 27075, 11, 290]\n",
      "y:        [27075, 11, 290, 4920]\n"
     ]
    }
   ],
   "source": [
    "#creating input-target pairs for next word prediction\n",
    "context_size = 4 #A\n",
    "\n",
    "x = enc_sample[:context_size] #contains the input tokens\n",
    "y = enc_sample[1:context_size+1] #contains targets' inputs shiftd by 1\n",
    "\n",
    "print(f\"x: {x}\")\n",
    "print(f\"y:        {y}\")"
   ]
  },
  {
   "cell_type": "code",
   "execution_count": 101,
   "id": "7d86a97f-f6a4-45fc-81fd-43550ca819bf",
   "metadata": {},
   "outputs": [
    {
     "name": "stdout",
     "output_type": "stream",
     "text": [
      "[5527] ------> 27075\n",
      "[5527, 27075] ------> 11\n",
      "[5527, 27075, 11] ------> 290\n",
      "[5527, 27075, 11, 290] ------> 4920\n"
     ]
    }
   ],
   "source": [
    "#creating the next-word prediction\n",
    "for i in range(1, context_size+1):\n",
    "    context = enc_sample[:i]\n",
    "    desired = enc_sample[i]\n",
    "    print(context, \"------>\" , desired)"
   ]
  },
  {
   "cell_type": "code",
   "execution_count": 105,
   "id": "8758840b-6325-4a81-afad-f2a7ebb9d491",
   "metadata": {},
   "outputs": [
    {
     "name": "stdout",
     "output_type": "stream",
     "text": [
      " rich ------>  widow\n",
      " rich widow ------> ,\n",
      " rich widow, ------>  and\n",
      " rich widow, and ------>  established\n"
     ]
    }
   ],
   "source": [
    "#creating the next-word prediction - visualizing the decoded text\n",
    "for i in range(1, context_size+1):\n",
    "    context = enc_sample[:i]\n",
    "    desired = enc_sample[i]\n",
    "    print(tokenizer.decode(context), \"------>\" , tokenizer.decode([desired]))"
   ]
  },
  {
   "cell_type": "code",
   "execution_count": 121,
   "id": "c18fecf2-5176-4eae-ba1c-52e19eedbb37",
   "metadata": {},
   "outputs": [],
   "source": [
    "#implementing a data loader that iterates over the input dataset and returns inputs & targets as pytorch tensors\n",
    "import torch\n",
    "from torch.utils.data import Dataset, DataLoader\n",
    "\n",
    "class GPTDatasetV1(Dataset):\n",
    "    def __init__(self, txt, tokenizer, max_length, stride):\n",
    "        self.tokenizer = tokenizer\n",
    "        self.input_ids = []\n",
    "        self.target_ids = []\n",
    "\n",
    "        token_ids = tokenizer.encode(txt) #A\n",
    "\n",
    "        for i in range(0, len(token_ids) - max_length, stride): #B\n",
    "            input_chunk = token_ids[i:i + max_length]\n",
    "            target_chunk = token_ids[i + 1: i + max_length + 1]\n",
    "            self.input_ids.append(torch.tensor(input_chunk))\n",
    "            self.target_ids.append(torch.tensor(target_chunk))\n",
    "\n",
    "    def __len__(self): #C\n",
    "        return len(self.input_ids)\n",
    "\n",
    "    def __getitem__(self, idx): #D\n",
    "        return self.input_ids[idx], self.target_ids[idx]"
   ]
  },
  {
   "cell_type": "code",
   "execution_count": 129,
   "id": "38eb38f7-2ad5-4e70-9b8b-5b57f20075f2",
   "metadata": {},
   "outputs": [],
   "source": [
    "#loading the input in batches via PyTorch DataLoader\n",
    "def create_dataloader_v1(txt, batch_size = 4, max_length = 256, stride = 128, shuffle = True, drop_last = True):\n",
    "    tokenizer = tiktoken.get_encoding(\"gpt2\") #A\n",
    "    dataset = GPTDatasetV1(txt, tokenizer, max_length, stride) #B\n",
    "    dataloader = DataLoader(dataset, batch_size = batch_size, shuffle = shuffle, drop_last = drop_last)\n",
    "    return dataloader"
   ]
  },
  {
   "cell_type": "code",
   "execution_count": 135,
   "id": "a9c30234-7d4c-45ef-8d7c-05214a08ddcd",
   "metadata": {},
   "outputs": [
    {
     "name": "stdout",
     "output_type": "stream",
     "text": [
      "[tensor([[171, 119, 123,  40]]), tensor([[119, 123,  40, 367]])]\n"
     ]
    }
   ],
   "source": [
    "#testing create_dataloader_v1 with batch_size with 1 for an LLM with context size of 4\n",
    "with open(\"the-verdict.txt\", \"r\", encoding = \"utf-8\") as f:\n",
    "    raw_text = f.read()\n",
    "\n",
    "dataloader = create_dataloader_v1(raw_text, batch_size = 1, max_length = 4, stride = 1, shuffle = False, drop_last = False)\n",
    "data_iter = iter(dataloader) #A\n",
    "first_batch = next(data_iter)\n",
    "print(first_batch)"
   ]
  },
  {
   "cell_type": "code",
   "execution_count": 137,
   "id": "3fe7b600-c361-456e-bc74-62f33ef08c66",
   "metadata": {},
   "outputs": [
    {
     "name": "stdout",
     "output_type": "stream",
     "text": [
      "[tensor([[119, 123,  40, 367]]), tensor([[ 123,   40,  367, 2885]])]\n"
     ]
    }
   ],
   "source": [
    "second_batch = next(data_iter)\n",
    "print(second_batch)"
   ]
  },
  {
   "cell_type": "markdown",
   "id": "b56c2915-b0db-427b-bc27-4f876f98a034",
   "metadata": {},
   "source": [
    "- if we compare the first and the second batch - we can observe that batch token IDs in the second batch have shifted by one position as compared to the first batch\n",
    "- stride setting determines the number of positons the tokens shift across batches, thereby emulating a sliding window approach\n",
    "- if the stride is set equal to the input window size it prevents overlap between batches"
   ]
  },
  {
   "cell_type": "code",
   "execution_count": 143,
   "id": "7c8d8b78-fcbc-4fd4-91e9-2c7d762989d6",
   "metadata": {},
   "outputs": [
    {
     "name": "stdout",
     "output_type": "stream",
     "text": [
      "Inputs: \n",
      "tensor([[  171,   119,   123,    40],\n",
      "        [  367,  2885,  1464,  1807],\n",
      "        [ 3619,   402,   271, 10899],\n",
      "        [ 2138,   257,  7026, 15632],\n",
      "        [  438,  2016,   257,   922],\n",
      "        [ 5891,  1576,   438,   568],\n",
      "        [  340,   373,   645,  1049],\n",
      "        [ 5975,   284,   502,   284]])\n",
      "Targets: \n",
      "tensor([[  119,   123,    40,   367],\n",
      "        [ 2885,  1464,  1807,  3619],\n",
      "        [  402,   271, 10899,  2138],\n",
      "        [  257,  7026, 15632,   438],\n",
      "        [ 2016,   257,   922,  5891],\n",
      "        [ 1576,   438,   568,   340],\n",
      "        [  373,   645,  1049,  5975],\n",
      "        [  284,   502,   284,  3285]])\n"
     ]
    }
   ],
   "source": [
    "#using the dataloader to sample with a batch size>1\n",
    "dataloader = create_dataloader_v1(raw_text, batch_size = 8, max_length = 4, stride = 4, shuffle = False, drop_last = False)\n",
    "data_iter = iter(dataloader) #A\n",
    "inputs, targets = next(data_iter)\n",
    "print(f\"Inputs: \\n{inputs}\")\n",
    "print(f\"Targets: \\n{targets}\")"
   ]
  },
  {
   "cell_type": "markdown",
   "id": "3412c6af-4ef2-47b6-9cec-bfb65703e120",
   "metadata": {},
   "source": [
    "increasing the stride to 4 ensure no word is skipped and avoids any overlap between batches (more overlap increase overfitting)"
   ]
  },
  {
   "cell_type": "markdown",
   "id": "96a9402b-bd32-4304-b9b9-43368a3fd0f9",
   "metadata": {},
   "source": [
    "#### 6. Creating token embeddings"
   ]
  },
  {
   "cell_type": "markdown",
   "id": "4cb3ac2d-5217-4751-adc4-c1e5a72be99b",
   "metadata": {},
   "source": [
    "Vector representation of token IDs along with token positions (absolute positional embedding) that will serve as an input data format for LLMs"
   ]
  },
  {
   "cell_type": "code",
   "execution_count": 150,
   "id": "97434fb7-3f5a-4560-8fd2-8f5afd39c04d",
   "metadata": {},
   "outputs": [],
   "source": [
    "#taking a sample of four input tokens\n",
    "input_ids = torch.tensor([2, 3, 5, 1])"
   ]
  },
  {
   "cell_type": "code",
   "execution_count": 152,
   "id": "7040bd50-37a9-4d11-abff-a631c5c05852",
   "metadata": {},
   "outputs": [],
   "source": [
    "#taking a vocab size of 6 and embedding size of 3\n",
    "vocab_size = 6\n",
    "output_dim = 3"
   ]
  },
  {
   "cell_type": "code",
   "execution_count": 154,
   "id": "93ffd25c-ed5b-465e-966c-d174f42c629f",
   "metadata": {},
   "outputs": [
    {
     "name": "stdout",
     "output_type": "stream",
     "text": [
      "Parameter containing:\n",
      "tensor([[ 0.3374, -0.1778, -0.1690],\n",
      "        [ 0.9178,  1.5810,  1.3010],\n",
      "        [ 1.2753, -0.2010, -0.1606],\n",
      "        [-0.4015,  0.9666, -1.1481],\n",
      "        [-1.1589,  0.3255, -0.6315],\n",
      "        [-2.8400, -0.7849, -1.4096]], requires_grad=True)\n"
     ]
    }
   ],
   "source": [
    "'''taking the vocab_size and output_dim to instantiate a embedding layer in PyTorch \n",
    "(setting random seed to 123 for reproducibility)'''\n",
    "\n",
    "torch.manual_seed(123)\n",
    "embedding_layer = torch.nn.Embedding(vocab_size, output_dim)\n",
    "print(embedding_layer.weight)"
   ]
  },
  {
   "cell_type": "markdown",
   "id": "f43207c9-324b-4182-9b89-eb4d25ea22df",
   "metadata": {},
   "source": [
    "- the above matrix is of 6x3 with 6 rows one for each token and 3 columns one for each embedding dimension\n",
    "- these random values are further optimized in the LLM training process via backpropagation"
   ]
  },
  {
   "cell_type": "code",
   "execution_count": 159,
   "id": "bf0877f1-4fd5-48a9-8cef-829567993aef",
   "metadata": {},
   "outputs": [
    {
     "name": "stdout",
     "output_type": "stream",
     "text": [
      "tensor([[-0.4015,  0.9666, -1.1481]], grad_fn=<EmbeddingBackward0>)\n"
     ]
    }
   ],
   "source": [
    "#applying the instantiated embedding layer to a token ID to obtain the embedding vector\n",
    "print(embedding_layer(torch.tensor([3]))) #lookup the embedding vector for this token id in the embedding layer weight matrix above"
   ]
  },
  {
   "cell_type": "code",
   "execution_count": 162,
   "id": "826c77d3-d5e1-41c6-90a8-d3f61c003db6",
   "metadata": {},
   "outputs": [
    {
     "name": "stdout",
     "output_type": "stream",
     "text": [
      "tensor([[ 1.2753, -0.2010, -0.1606],\n",
      "        [-0.4015,  0.9666, -1.1481],\n",
      "        [-2.8400, -0.7849, -1.4096],\n",
      "        [ 0.9178,  1.5810,  1.3010]], grad_fn=<EmbeddingBackward0>)\n"
     ]
    }
   ],
   "source": [
    "#applying the instantiated embedding layer to all token ID to obtain the embedding vector\n",
    "print(embedding_layer(input_ids)) "
   ]
  },
  {
   "cell_type": "markdown",
   "id": "ecdad657-a965-45d3-bd5b-26cf5d523f1b",
   "metadata": {},
   "source": [
    "#### 7. Encoding word positions"
   ]
  },
  {
   "cell_type": "code",
   "execution_count": 172,
   "id": "0b83d92e-0702-4664-bb93-55964e5bb7de",
   "metadata": {},
   "outputs": [],
   "source": [
    "output_dim = 256\n",
    "vocab_size = 50257\n",
    "token_embedding_layer = torch.nn.Embedding(vocab_size, output_dim)"
   ]
  },
  {
   "cell_type": "code",
   "execution_count": 176,
   "id": "e39a4103-0eff-4781-8da1-830730c2b84e",
   "metadata": {},
   "outputs": [
    {
     "name": "stdout",
     "output_type": "stream",
     "text": [
      "Token IDs: \n",
      "tensor([[  171,   119,   123,    40],\n",
      "        [  367,  2885,  1464,  1807],\n",
      "        [ 3619,   402,   271, 10899],\n",
      "        [ 2138,   257,  7026, 15632],\n",
      "        [  438,  2016,   257,   922],\n",
      "        [ 5891,  1576,   438,   568],\n",
      "        [  340,   373,   645,  1049],\n",
      "        [ 5975,   284,   502,   284]])\n",
      "Inputs shape: \n",
      "torch.Size([8, 4])\n"
     ]
    }
   ],
   "source": [
    "#instantiating the data loader\n",
    "max_length = 4\n",
    "dataloader = create_dataloader_v1(raw_text, batch_size = 8, max_length = max_length, stride = max_length, \n",
    "                                  shuffle = False, drop_last = False)\n",
    "data_iter = iter(dataloader)\n",
    "inputs, targets = next(data_iter)\n",
    "print(f\"Token IDs: \\n{inputs}\")\n",
    "print(f\"Inputs shape: \\n{inputs.shape}\")"
   ]
  },
  {
   "cell_type": "markdown",
   "id": "793ab400-1365-40f7-9397-ccc6f05442b0",
   "metadata": {},
   "source": [
    "the token ID tensor of shape 8X4 indicates that the data batch consists 8 text samples with 4 tokens each"
   ]
  },
  {
   "cell_type": "code",
   "execution_count": 181,
   "id": "aae7b30c-4ede-4b6a-9168-82f2d80cec97",
   "metadata": {},
   "outputs": [
    {
     "name": "stdout",
     "output_type": "stream",
     "text": [
      "torch.Size([8, 4, 256])\n"
     ]
    }
   ],
   "source": [
    "#using the embedding layer to embed these token ids in 256 dimensional vectors\n",
    "token_embeddings = token_embedding_layer(inputs)\n",
    "print(token_embeddings.shape)"
   ]
  },
  {
   "cell_type": "code",
   "execution_count": 183,
   "id": "220960c5-9adc-404c-bdf9-4fa78e53bc81",
   "metadata": {},
   "outputs": [
    {
     "name": "stdout",
     "output_type": "stream",
     "text": [
      "torch.Size([4, 256])\n"
     ]
    }
   ],
   "source": [
    "'''following the GPT model's absolute positional embedding approach - creating another embedding layer \n",
    "    with same dimension as token_embedding_layer'''\n",
    "\n",
    "context_length = max_length\n",
    "pos_embedding_layer = torch.nn.Embedding(context_length, output_dim)\n",
    "pos_embeddings = pos_embedding_layer(torch.arange(context_length))\n",
    "print(pos_embeddings.shape)"
   ]
  },
  {
   "cell_type": "code",
   "execution_count": 189,
   "id": "57ae2947-6761-4d6b-8fc2-c6a0eb46e682",
   "metadata": {},
   "outputs": [
    {
     "name": "stdout",
     "output_type": "stream",
     "text": [
      "torch.Size([8, 4, 256])\n"
     ]
    }
   ],
   "source": [
    "#adding the pos_embeddings to token_embeddings in each of the 8 batches\n",
    "input_embeddings = token_embeddings + pos_embeddings\n",
    "print(input_embeddings.shape)"
   ]
  },
  {
   "cell_type": "markdown",
   "id": "40c6267a-35a6-4b4a-9a39-6d0ec2c262b5",
   "metadata": {},
   "source": [
    "these input_embeddings are now ready to be processed by the main LLM Module"
   ]
  },
  {
   "cell_type": "markdown",
   "id": "f75c6832-8de6-4aa4-95c0-3ca09ac5598a",
   "metadata": {},
   "source": [
    "### Coding attention mechanism (Chapter 3)"
   ]
  },
  {
   "cell_type": "code",
   "execution_count": 200,
   "id": "7f0d014a-813f-4f79-be6f-975bd0beba75",
   "metadata": {},
   "outputs": [],
   "source": [
    "#taking a sample input sentence\n",
    "import torch\n",
    "inputs = torch.tensor(\n",
    "[[0.43, 0.15, 0.89], # Your (x^1) \n",
    " [0.55, 0.87, 0.66], # journey (x^2)\n",
    " [0.57, 0.85, 0.64], # starts (x^3)\n",
    " [0.22, 0.58, 0.33], # with (x^4)\n",
    " [0.77, 0.25, 0.10], # one (x^5)\n",
    " [0.05, 0.80, 0.55]] # step (x^6)\n",
    ")"
   ]
  },
  {
   "cell_type": "markdown",
   "id": "f7b77fdb-6bc1-4fd0-a932-7825db430518",
   "metadata": {},
   "source": [
    "#### 8. Computing intermediate attention scores"
   ]
  },
  {
   "cell_type": "code",
   "execution_count": 208,
   "id": "b8c48510-d7b3-46ea-9ad5-371a360ab57b",
   "metadata": {},
   "outputs": [
    {
     "name": "stdout",
     "output_type": "stream",
     "text": [
      "the computed intermediate attention scores are: \n",
      "tensor([0.9544, 1.4950, 1.4754, 0.8434, 0.7070, 1.0865])\n"
     ]
    }
   ],
   "source": [
    "#computing intermediate attention scores between query and input token by taking dot product of query with input token\n",
    "query = inputs[1] #A\n",
    "attn_scores_2 = torch.empty(inputs.shape[0])\n",
    "for i, x_i in enumerate(inputs):\n",
    "    attn_scores_2[i] = torch.dot(x_i, query)\n",
    "\n",
    "print(f\"the computed intermediate attention scores are: \\n{attn_scores_2}\")"
   ]
  },
  {
   "cell_type": "markdown",
   "id": "cc3b45e8-bf01-4040-b9b0-e2b574281b43",
   "metadata": {},
   "source": [
    "#### 9. Obtaining attention weights"
   ]
  },
  {
   "cell_type": "code",
   "execution_count": 210,
   "id": "2338eb7f-e26f-4a03-ab85-33f2a7aaeba9",
   "metadata": {},
   "outputs": [
    {
     "name": "stdout",
     "output_type": "stream",
     "text": [
      "attention weights: tensor([0.1455, 0.2278, 0.2249, 0.1285, 0.1077, 0.1656])\n",
      "sum of attention weights: 1.0000001192092896\n"
     ]
    }
   ],
   "source": [
    "#obtaining attention weights (that sum up to 1) by normalizing the attention scores\n",
    "attn_weights_2_tmp = attn_scores_2 / attn_scores_2.sum()\n",
    "print(f\"attention weights: {attn_weights_2_tmp}\")\n",
    "print(f\"sum of attention weights: {attn_weights_2_tmp.sum()}\")"
   ]
  },
  {
   "cell_type": "code",
   "execution_count": 219,
   "id": "21db5a44-bfcf-4b14-ae3b-f325e8f85bbb",
   "metadata": {},
   "outputs": [
    {
     "name": "stdout",
     "output_type": "stream",
     "text": [
      "attention weights: tensor([0.1385, 0.2379, 0.2333, 0.1240, 0.1082, 0.1581])\n",
      "sum of attention weights: 1.0\n"
     ]
    }
   ],
   "source": [
    "'''softmax function is commonly used to normalize the attention scores \n",
    "(can handle extreme values, ensures attn. weights are alays positive etc.)'''\n",
    "def softmax_naive(x):\n",
    "    return torch.exp(x) / torch.exp(x).sum(dim = 0)\n",
    "\n",
    "attn_weights_2_naive = softmax_naive(attn_scores_2)\n",
    "print(f\"attention weights: {attn_weights_2_naive}\")\n",
    "print(f\"sum of attention weights: {attn_weights_2_naive.sum()}\")"
   ]
  },
  {
   "cell_type": "code",
   "execution_count": 221,
   "id": "a6c9b51e-f747-436b-8651-6c56f7eb7d07",
   "metadata": {},
   "outputs": [
    {
     "name": "stdout",
     "output_type": "stream",
     "text": [
      "attention weights: tensor([0.1385, 0.2379, 0.2333, 0.1240, 0.1082, 0.1581])\n",
      "sum of attention weights: 1.0\n"
     ]
    }
   ],
   "source": [
    "#using PyTorch softmax funtion to prevent overflow and underflow while dealing with large or small input values\n",
    "attn_weights_2 = torch.softmax(attn_scores_2, dim = 0)\n",
    "print(f\"attention weights: {attn_weights_2}\")\n",
    "print(f\"sum of attention weights: {attn_weights_2.sum()}\")"
   ]
  },
  {
   "cell_type": "markdown",
   "id": "7e005f4c-fcf9-4592-bfe3-2a0c5071bd62",
   "metadata": {},
   "source": [
    "#### 10. Calculating context vector"
   ]
  },
  {
   "cell_type": "code",
   "execution_count": 225,
   "id": "61f35315-de17-4178-8368-8f574d5dec71",
   "metadata": {},
   "outputs": [
    {
     "data": {
      "text/plain": [
       "'calculatin context vector by multiplying embedded input tokens with corresponding attention weights \\nand then summing the resulting vectors'"
      ]
     },
     "execution_count": 225,
     "metadata": {},
     "output_type": "execute_result"
    }
   ],
   "source": [
    "'''calculatin context vector by multiplying embedded input tokens with corresponding attention weights \n",
    "and then summing the resulting vectors'''\n"
   ]
  },
  {
   "cell_type": "code",
   "execution_count": null,
   "id": "c658dcb2-1622-41b1-a4bd-b16e25885e41",
   "metadata": {},
   "outputs": [],
   "source": []
  }
 ],
 "metadata": {
  "kernelspec": {
   "display_name": "Python 3 (ipykernel)",
   "language": "python",
   "name": "python3"
  },
  "language_info": {
   "codemirror_mode": {
    "name": "ipython",
    "version": 3
   },
   "file_extension": ".py",
   "mimetype": "text/x-python",
   "name": "python",
   "nbconvert_exporter": "python",
   "pygments_lexer": "ipython3",
   "version": "3.12.4"
  }
 },
 "nbformat": 4,
 "nbformat_minor": 5
}
