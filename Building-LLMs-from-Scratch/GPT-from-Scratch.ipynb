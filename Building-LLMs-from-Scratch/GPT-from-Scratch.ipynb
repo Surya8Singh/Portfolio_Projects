{
 "cells": [
  {
   "cell_type": "code",
   "execution_count": 1,
   "id": "4b577c92-3a55-45f3-9169-1ee4a43f7985",
   "metadata": {},
   "outputs": [],
   "source": [
    "import pandas as pd"
   ]
  },
  {
   "cell_type": "code",
   "execution_count": 22,
   "id": "e7b974c1-762b-4c07-a4db-c68bc1dabd14",
   "metadata": {},
   "outputs": [
    {
     "ename": "FileNotFoundError",
     "evalue": "[Errno 2] No such file or directory: 'Portfolio_Projects/Building-LLMs-from-Scratch/the-verdict.txt'",
     "output_type": "error",
     "traceback": [
      "\u001b[0;31m---------------------------------------------------------------------------\u001b[0m",
      "\u001b[0;31mFileNotFoundError\u001b[0m                         Traceback (most recent call last)",
      "Cell \u001b[0;32mIn[22], line 2\u001b[0m\n\u001b[1;32m      1\u001b[0m \u001b[38;5;66;03m#Reading in a short story as text sample into Python\u001b[39;00m\n\u001b[0;32m----> 2\u001b[0m \u001b[38;5;28;01mwith\u001b[39;00m \u001b[38;5;28mopen\u001b[39m(\u001b[38;5;124m\"\u001b[39m\u001b[38;5;124mPortfolio_Projects/Building-LLMs-from-Scratch/the-verdict.txt\u001b[39m\u001b[38;5;124m\"\u001b[39m, \u001b[38;5;124m\"\u001b[39m\u001b[38;5;124mr\u001b[39m\u001b[38;5;124m\"\u001b[39m, encoding \u001b[38;5;241m=\u001b[39m \u001b[38;5;124m\"\u001b[39m\u001b[38;5;124mutf-8\u001b[39m\u001b[38;5;124m\"\u001b[39m) \u001b[38;5;28;01mas\u001b[39;00m f:\n\u001b[1;32m      3\u001b[0m           raw_text \u001b[38;5;241m=\u001b[39m f\u001b[38;5;241m.\u001b[39mread()\n\u001b[1;32m      4\u001b[0m \u001b[38;5;28mprint\u001b[39m(\u001b[38;5;124m\"\u001b[39m\u001b[38;5;124mTotal number of character:\u001b[39m\u001b[38;5;124m\"\u001b[39m, \u001b[38;5;28mlen\u001b[39m(raw_text))\n",
      "File \u001b[0;32m/opt/anaconda3/lib/python3.12/site-packages/IPython/core/interactiveshell.py:324\u001b[0m, in \u001b[0;36m_modified_open\u001b[0;34m(file, *args, **kwargs)\u001b[0m\n\u001b[1;32m    317\u001b[0m \u001b[38;5;28;01mif\u001b[39;00m file \u001b[38;5;129;01min\u001b[39;00m {\u001b[38;5;241m0\u001b[39m, \u001b[38;5;241m1\u001b[39m, \u001b[38;5;241m2\u001b[39m}:\n\u001b[1;32m    318\u001b[0m     \u001b[38;5;28;01mraise\u001b[39;00m \u001b[38;5;167;01mValueError\u001b[39;00m(\n\u001b[1;32m    319\u001b[0m         \u001b[38;5;124mf\u001b[39m\u001b[38;5;124m\"\u001b[39m\u001b[38;5;124mIPython won\u001b[39m\u001b[38;5;124m'\u001b[39m\u001b[38;5;124mt let you open fd=\u001b[39m\u001b[38;5;132;01m{\u001b[39;00mfile\u001b[38;5;132;01m}\u001b[39;00m\u001b[38;5;124m by default \u001b[39m\u001b[38;5;124m\"\u001b[39m\n\u001b[1;32m    320\u001b[0m         \u001b[38;5;124m\"\u001b[39m\u001b[38;5;124mas it is likely to crash IPython. If you know what you are doing, \u001b[39m\u001b[38;5;124m\"\u001b[39m\n\u001b[1;32m    321\u001b[0m         \u001b[38;5;124m\"\u001b[39m\u001b[38;5;124myou can use builtins\u001b[39m\u001b[38;5;124m'\u001b[39m\u001b[38;5;124m open.\u001b[39m\u001b[38;5;124m\"\u001b[39m\n\u001b[1;32m    322\u001b[0m     )\n\u001b[0;32m--> 324\u001b[0m \u001b[38;5;28;01mreturn\u001b[39;00m io_open(file, \u001b[38;5;241m*\u001b[39margs, \u001b[38;5;241m*\u001b[39m\u001b[38;5;241m*\u001b[39mkwargs)\n",
      "\u001b[0;31mFileNotFoundError\u001b[0m: [Errno 2] No such file or directory: 'Portfolio_Projects/Building-LLMs-from-Scratch/the-verdict.txt'"
     ]
    }
   ],
   "source": [
    "#Reading in a short story as text sample into Python\n",
    "with open(\"Portfolio_Projects/Building-LLMs-from-Scratch/the-verdict.txt\", \"r\", encoding = \"utf-8\") as f:\n",
    "          raw_text = f.read()\n",
    "print(\"Total number of character:\", len(raw_text))\n",
    "print(raw_text[:99])"
   ]
  },
  {
   "cell_type": "markdown",
   "id": "fca6197a-3450-476d-a75e-50e66984b1e4",
   "metadata": {},
   "source": [
    "### 1. Tokenizing Text"
   ]
  },
  {
   "cell_type": "code",
   "execution_count": null,
   "id": "c490f3ea-71ec-43ef-b2f7-2f6844ab5010",
   "metadata": {},
   "outputs": [],
   "source": [
    "import re\n",
    "text = \"Hello, world. This, is a test.\"\n",
    "result = re.split(r'(\\s)', text)\n",
    "print(result)"
   ]
  },
  {
   "cell_type": "code",
   "execution_count": null,
   "id": "0fd779b8-4919-4f5f-a6cc-115d8a0edff4",
   "metadata": {},
   "outputs": [],
   "source": [
    "#separting punction and spaces from the text\n",
    "result = re.split(r'([,.]|\\s)', text)\n",
    "print(result)"
   ]
  },
  {
   "cell_type": "code",
   "execution_count": null,
   "id": "a995544a-edaf-41ce-96fa-35a08f74e78d",
   "metadata": {},
   "outputs": [],
   "source": [
    "#remvoing white spaces\n",
    "result = [item for item in result if item.strip()]\n",
    "print(result)"
   ]
  },
  {
   "cell_type": "code",
   "execution_count": null,
   "id": "669d64dd-2251-47f6-9c64-7acda8a2b33c",
   "metadata": {},
   "outputs": [],
   "source": [
    "#extending the tokenizer to handle wider range of punctuations\n",
    "text = \"Hello, world. Is this-- a test.\"\n",
    "result = re.split(r'([,.:;?_!\"()\\']|--|\\s)', text)\n",
    "result = [item.strip() for item in result if item.strip()]\n",
    "print(\"Tokenized text: \",result)"
   ]
  },
  {
   "cell_type": "code",
   "execution_count": null,
   "id": "52690889-1543-4732-bd56-f97d409d91a9",
   "metadata": {},
   "outputs": [],
   "source": [
    "#applying this tokenizer to the full Edith Warton's story\n",
    "preprocessed = re.split(r'([,.:;?_!\"()\\']|--|\\s)', raw_text)\n",
    "preprocessed = [item.strip() for item in preprocessed if item.strip()]\n",
    "print(f\"length of the complete tokenized text from Edith Wharton story: {len(preprocessed)}\")"
   ]
  },
  {
   "cell_type": "code",
   "execution_count": null,
   "id": "5e98ed10-3aa6-4ce4-b66f-3c7c03abba0b",
   "metadata": {},
   "outputs": [],
   "source": [
    "#printing first 30 tokens\n",
    "print(f\"First 30 tokens: {preprocessed[:30]}\")"
   ]
  },
  {
   "cell_type": "markdown",
   "id": "d2729af4-db08-42cc-96da-34851831de5e",
   "metadata": {},
   "source": [
    "### 2. Converting token into token IDs"
   ]
  },
  {
   "cell_type": "markdown",
   "id": "ab8fbec7-c786-45a4-be1d-96ee2f7500b3",
   "metadata": {},
   "source": [
    "#### create a list of all unique tokens and sort them alphabetically to determine the vocabulary"
   ]
  },
  {
   "cell_type": "code",
   "execution_count": null,
   "id": "a4664186-5ff4-426e-940c-d5feb6aba4dd",
   "metadata": {},
   "outputs": [],
   "source": [
    "all_words = sorted(list(set(preprocessed)))\n",
    "vocab_size = len(all_words)\n",
    "print(f\"Vocabulary Size: {vocab_size}\")"
   ]
  },
  {
   "cell_type": "code",
   "execution_count": null,
   "id": "5f725dd2-aa85-43c6-8110-32485f318f1c",
   "metadata": {
    "scrolled": true
   },
   "outputs": [],
   "source": [
    "#creating a vocabulary\n",
    "vocab = {token: integer for integer, token in enumerate(all_words)}\n",
    "for i, item in enumerate(vocab.items()):\n",
    "    print(item)\n",
    "    if i > 50:\n",
    "        break"
   ]
  },
  {
   "cell_type": "code",
   "execution_count": null,
   "id": "e9ac1c72-2497-4e7c-bad8-f6e74e43a30e",
   "metadata": {},
   "outputs": [],
   "source": [
    "#implementing a tokenizer class to tokenize text into tokens, encode tokens to integers and decode integers to tokens\n",
    "\n",
    "class SimpleTokenzierV1:\n",
    "    def __init__(self, vocab):\n",
    "        self.str_to_int = vocab #A\n",
    "        self.int_to_str = {i:s for s,i in vocab.items()} #B\n",
    "\n",
    "    def encode(self, text): #C\n",
    "        preprocessed = re.split(r'([,.:;?_!\"()\\']|--|\\s)', text)\n",
    "        preprocessed = [item.strip() for item in preprocessed if item.strip()]\n",
    "        ids = [self.str_to_int[s] for s in preprocessed]\n",
    "        return ids\n",
    "\n",
    "    def decode(self, ids): #D\n",
    "        text = \" \".join([self.int_to_str[i] for i in ids])\n",
    "        text = re.sub(r'\\s+([,.?!\"()\\'])', r'\\1', text) #E\n",
    "        return text"
   ]
  },
  {
   "cell_type": "code",
   "execution_count": null,
   "id": "7efebd56-ea72-4f69-99b4-d070fea10075",
   "metadata": {},
   "outputs": [],
   "source": [
    "#instantiating tokenizer object to test the SimpleTokenzierV1 class\n",
    "tokenizer = SimpleTokenzierV1(vocab)"
   ]
  },
  {
   "cell_type": "code",
   "execution_count": null,
   "id": "acfbe03a-2dce-45e2-80ed-8c2c97a86623",
   "metadata": {},
   "outputs": [],
   "source": [
    "text = raw_text[:99]\n",
    "ids = tokenizer.encode(text)\n",
    "print(f\"Token ids for sample text from Edith Warton's story: {ids}\")"
   ]
  },
  {
   "cell_type": "code",
   "execution_count": null,
   "id": "0669898e-04dc-43c2-ad50-4fd8ab344a47",
   "metadata": {},
   "outputs": [],
   "source": [
    "#testing decoder on the token ids above\n",
    "print(f\"text from decoding token ids using SimpleTokenzierV1 class: \\n{tokenizer.decode(ids)}\")"
   ]
  },
  {
   "cell_type": "code",
   "execution_count": null,
   "id": "6ee95db7-3368-4bb5-b76e-665cf1c192b4",
   "metadata": {},
   "outputs": [],
   "source": [
    "#running the tokenizer on a sample text which is not a part of the text used to create the vocab\n",
    "text = \"Hello, do you like tea?\"\n",
    "tokenizer.encode(text)"
   ]
  },
  {
   "cell_type": "markdown",
   "id": "bd2c9439-8d76-416b-903d-f72b8bf27588",
   "metadata": {},
   "source": [
    "here, the key error suggests that Hello is not a part of the vocabulary and hence we need to use large and diverse text in order to extend the vocabulary when creating a LARGE language models"
   ]
  },
  {
   "cell_type": "markdown",
   "id": "fe8b41fc-4ba2-4fb0-99ce-8eec285b0daf",
   "metadata": {},
   "source": [
    "#### 3. Adding special context tokens"
   ]
  },
  {
   "cell_type": "markdown",
   "id": "ff54ec79-f0bf-42d1-85b4-8c2cdd90a658",
   "metadata": {},
   "source": [
    "modifying SimpleTokenzierV1 to support new tokens for unknown words and document boundaries"
   ]
  },
  {
   "cell_type": "code",
   "execution_count": null,
   "id": "05e2ebda-cfa9-4de8-9e53-6542f783e3cc",
   "metadata": {},
   "outputs": [],
   "source": [
    "'''adding tokens:\n",
    "1. <unk> - to represent unknown or new words that are not part of the vocabulary\n",
    "2. <|endoftext|> -  marker to separate two different text source from each other\n",
    "'''\n",
    "all_tokens =  sorted(list(set(preprocessed)))\n",
    "all_tokens.extend([\"<|endoftext|>\", \"<unk>\"])\n",
    "vocab = {token:integer for integer, token in enumerate(all_tokens)}\n",
    "\n",
    "print(f\"length of the vocabulary after extending the vocab with unknown words and end of text markers: {len(vocab.items())}\")"
   ]
  },
  {
   "cell_type": "code",
   "execution_count": null,
   "id": "6d66b658-0a72-4ceb-9713-60dca1668b4f",
   "metadata": {},
   "outputs": [],
   "source": [
    "#printing a sample from the end of the extended vocab\n",
    "for i, item in enumerate(list(vocab.items())[-5:]):\n",
    "    print(item)"
   ]
  },
  {
   "cell_type": "code",
   "execution_count": null,
   "id": "60289004-5a80-4ed0-8d29-606cc79a57c2",
   "metadata": {},
   "outputs": [],
   "source": [
    "#SimpleTokenzierV2 replaces unknown words with the token \"<unk>\"\n",
    "class SimpleTokenzierV2:\n",
    "    def __init__(self, vocab):\n",
    "        self.str_to_int = vocab\n",
    "        self.int_to_str = {i:s for s,i in vocab.items()}\n",
    "\n",
    "    def encode(self, text):\n",
    "        preprocessed = re.split(r'([,.:;?_!\"()\\']|--|\\s)', text)\n",
    "        preprocessed = [item.strip() for item in preprocessed if item.strip()]\n",
    "        preprocessed = [item if item in self.str_to_int\n",
    "                       else \"<unk>\" for item in preprocessed] #A\n",
    "        ids = [self.str_to_int[s] for s in preprocessed]\n",
    "        return ids\n",
    "\n",
    "    def decode(self, ids):\n",
    "        text = \" \".join([self.int_to_str[i] for i in ids])\n",
    "        text = re.sub(r'\\s+([,.?!\"()\\'])', r'\\1', text) #B\n",
    "        return text"
   ]
  },
  {
   "cell_type": "code",
   "execution_count": null,
   "id": "64600496-2aa1-48d9-97b2-728645d548fb",
   "metadata": {},
   "outputs": [],
   "source": [
    "#concatenating two unrelated texts\n",
    "text1 = \"Hello, do you like tea?\"\n",
    "text2 = \"In the sunlit terraces of the palace.\"\n",
    "\n",
    "text = \" <|endoftext|> \".join((text1, text2))\n",
    "print(f\"concatenated text with endoftext marker: \\n{text}\")"
   ]
  },
  {
   "cell_type": "code",
   "execution_count": null,
   "id": "d985105e-7f40-48ac-b4dd-1c13af60c566",
   "metadata": {},
   "outputs": [],
   "source": [
    "#testing the SimpleTokenzierV2 on a text that is concatenation of two unrelated texts\n",
    "tokenizer = SimpleTokenzierV2(vocab)\n",
    "print(tokenizer.encode(text))"
   ]
  },
  {
   "cell_type": "markdown",
   "id": "1b3edcb7-9f9c-4e50-9a5d-44c39fe8e22f",
   "metadata": {},
   "source": [
    "we can see that the list of token IDs contains 1131 for the <|endoftext|> separator token as well as two 1132 tokens, which are used for unknown words."
   ]
  },
  {
   "cell_type": "code",
   "execution_count": null,
   "id": "992f963f-b798-4355-ad60-62f60a9f5934",
   "metadata": {},
   "outputs": [],
   "source": []
  }
 ],
 "metadata": {
  "kernelspec": {
   "display_name": "Python 3 (ipykernel)",
   "language": "python",
   "name": "python3"
  },
  "language_info": {
   "codemirror_mode": {
    "name": "ipython",
    "version": 3
   },
   "file_extension": ".py",
   "mimetype": "text/x-python",
   "name": "python",
   "nbconvert_exporter": "python",
   "pygments_lexer": "ipython3",
   "version": "3.12.4"
  }
 },
 "nbformat": 4,
 "nbformat_minor": 5
}
